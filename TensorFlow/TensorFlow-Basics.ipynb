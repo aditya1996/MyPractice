{
 "cells": [
  {
   "cell_type": "markdown",
   "metadata": {},
   "source": [
    "# TensorFlow\n",
    "\n",
    "## Has two components\n",
    "\n",
    "- Graphs (way of defining operations)\n",
    "\n",
    "- Sessions (allows parts of the graph to be executed)"
   ]
  },
  {
   "cell_type": "code",
   "execution_count": 2,
   "metadata": {},
   "outputs": [
    {
     "output_type": "stream",
     "name": "stdout",
     "text": "2.3.1\n"
    }
   ],
   "source": [
    "import tensorflow as tf\n",
    "print(tf.__version__)"
   ]
  },
  {
   "cell_type": "markdown",
   "metadata": {},
   "source": [
    "# Tensors\n",
    "\n",
    "A tensor is a generalization of vectors and matrices to potentially higher dimensions. Internally, TensorFlow represents tensors as n-dimensional arrays of base datatypes.\n",
    "\n",
    "It should't surprise you that tensors are a fundemental apsect of TensorFlow. They are the main objects that are passed around and manipluated throughout the program. Each tensor represents a partialy defined computation that will eventually produce a value. TensorFlow programs work by building a graph of Tensor objects that details how tensors are related. Running different parts of the graph allow results to be generated.\n",
    "\n",
    "Each tensor has a data type and a shape.\n",
    "\n",
    "** Data Types Include:** float32, int32, string and others.\n",
    "\n",
    "** Shape:** Represents the dimension of data.\n",
    "\n",
    "Just like vectors and matrices tensors can have operations applied to them like addition, subtraction, dot product, cross product etc.\n",
    "\n",
    "In the next sections we will discuss some different properties of tensors. This is to make you more familiar with how tensorflow represnts data and how you can manipulate this data."
   ]
  },
  {
   "cell_type": "markdown",
   "metadata": {},
   "source": [
    "## Creating Tensors\n",
    "\n",
    "You simply define the value of the tensor and the datatype and you are good to go! It's worth mentioning that usually we deal with tensors of numeric data, it is quite rare to see string tensors."
   ]
  },
  {
   "cell_type": "code",
   "execution_count": 3,
   "metadata": {},
   "outputs": [],
   "source": [
    "string = tf.Variable(\"this is a string\", tf.string)\n",
    "number = tf.Variable(324, tf.int16)\n",
    "floating = tf.Variable(3,567, tf.float64)"
   ]
  },
  {
   "cell_type": "code",
   "execution_count": 4,
   "metadata": {},
   "outputs": [
    {
     "output_type": "stream",
     "name": "stdout",
     "text": "<tf.Variable 'Variable:0' shape=() dtype=string, numpy=b'this is a string'>\n"
    }
   ],
   "source": [
    "print(string)"
   ]
  },
  {
   "cell_type": "markdown",
   "metadata": {},
   "source": [
    "## Rank/Degree of Tensors\n",
    "\n",
    "Another word for rank is degree, these terms simply mean the number of dimensions involved in the tensor. What we created above is a tensor of rank 0, also known as a scalar."
   ]
  },
  {
   "cell_type": "code",
   "execution_count": 5,
   "metadata": {},
   "outputs": [],
   "source": [
    "rank1_tensor = tf.Variable([\"Test\"], tf.string) \n",
    "rank2_tensor = tf.Variable([[\"test\", \"ok\"], [\"test\", \"yes\"]], tf.string)"
   ]
  },
  {
   "cell_type": "code",
   "execution_count": 6,
   "metadata": {},
   "outputs": [
    {
     "output_type": "execute_result",
     "data": {
      "text/plain": "<tf.Tensor: shape=(), dtype=int32, numpy=2>"
     },
     "metadata": {},
     "execution_count": 6
    }
   ],
   "source": [
    "tf.rank(rank2_tensor)"
   ]
  },
  {
   "cell_type": "markdown",
   "metadata": {},
   "source": [
    "# Changing Shape\n",
    "\n",
    "The number of elements of a tensor is the product of the sizes of all its shapes. There are often many shapes that have the same number of elements, making it convient to be able to change the shape of a tensor."
   ]
  },
  {
   "cell_type": "code",
   "execution_count": 7,
   "metadata": {},
   "outputs": [
    {
     "output_type": "execute_result",
     "data": {
      "text/plain": "TensorShape([1])"
     },
     "metadata": {},
     "execution_count": 7
    }
   ],
   "source": [
    "rank1_tensor.shape"
   ]
  },
  {
   "cell_type": "code",
   "execution_count": 8,
   "metadata": {},
   "outputs": [
    {
     "output_type": "execute_result",
     "data": {
      "text/plain": "TensorShape([2, 2])"
     },
     "metadata": {},
     "execution_count": 8
    }
   ],
   "source": [
    "rank2_tensor.shape"
   ]
  },
  {
   "cell_type": "code",
   "execution_count": 9,
   "metadata": {},
   "outputs": [],
   "source": [
    "tensor1 = tf.ones([1,2,3]) # 1 interior list, 2 list inside, 3 elements each\n",
    "tensor2 = tf.reshape(tensor1, [2,3,1]) # 2 interior list, 3 list inside, 1 element each\n",
    "tensor3 = tf.reshape(tensor2, [3, -1]) # -1 tells the tensor to calculate the size of the dimension in that place"
   ]
  },
  {
   "cell_type": "code",
   "execution_count": 10,
   "metadata": {},
   "outputs": [
    {
     "output_type": "stream",
     "name": "stdout",
     "text": "tf.Tensor(\n[[[1. 1. 1.]\n  [1. 1. 1.]]], shape=(1, 2, 3), dtype=float32)\n\n\ntf.Tensor(\n[[[1.]\n  [1.]\n  [1.]]\n\n [[1.]\n  [1.]\n  [1.]]], shape=(2, 3, 1), dtype=float32)\n\n\ntf.Tensor(\n[[1. 1.]\n [1. 1.]\n [1. 1.]], shape=(3, 2), dtype=float32)\n"
    }
   ],
   "source": [
    "print(tensor1)\n",
    "print(\"\\n\")\n",
    "print(tensor2)\n",
    "print(\"\\n\")\n",
    "print(tensor3)"
   ]
  },
  {
   "cell_type": "markdown",
   "metadata": {},
   "source": [
    "# Types of Tensors\n",
    "Before we go to far, I will mention that there are diffent types of tensors. These are the most used and we will talk more in depth about each as they are used.\n",
    "- Variable\n",
    "- Constant\n",
    "- Placeholder\n",
    "- SparseTensor\n",
    "\n",
    "With the execption of ```Variable``` all these tensors are immuttable, meaning their value may not change during execution.\n",
    "\n",
    "For now, it is enough to understand that we use the Variable tensor when we want to potentially change the value of our tensor."
   ]
  },
  {
   "cell_type": "code",
   "execution_count": 14,
   "metadata": {},
   "outputs": [
    {
     "output_type": "stream",
     "name": "stdout",
     "text": "tf.Tensor(\n[[[[0. 0. 0. 0. 0.]\n   [0. 0. 0. 0. 0.]\n   [0. 0. 0. 0. 0.]\n   [0. 0. 0. 0. 0.]\n   [0. 0. 0. 0. 0.]]\n\n  [[0. 0. 0. 0. 0.]\n   [0. 0. 0. 0. 0.]\n   [0. 0. 0. 0. 0.]\n   [0. 0. 0. 0. 0.]\n   [0. 0. 0. 0. 0.]]\n\n  [[0. 0. 0. 0. 0.]\n   [0. 0. 0. 0. 0.]\n   [0. 0. 0. 0. 0.]\n   [0. 0. 0. 0. 0.]\n   [0. 0. 0. 0. 0.]]\n\n  [[0. 0. 0. 0. 0.]\n   [0. 0. 0. 0. 0.]\n   [0. 0. 0. 0. 0.]\n   [0. 0. 0. 0. 0.]\n   [0. 0. 0. 0. 0.]]\n\n  [[0. 0. 0. 0. 0.]\n   [0. 0. 0. 0. 0.]\n   [0. 0. 0. 0. 0.]\n   [0. 0. 0. 0. 0.]\n   [0. 0. 0. 0. 0.]]]\n\n\n [[[0. 0. 0. 0. 0.]\n   [0. 0. 0. 0. 0.]\n   [0. 0. 0. 0. 0.]\n   [0. 0. 0. 0. 0.]\n   [0. 0. 0. 0. 0.]]\n\n  [[0. 0. 0. 0. 0.]\n   [0. 0. 0. 0. 0.]\n   [0. 0. 0. 0. 0.]\n   [0. 0. 0. 0. 0.]\n   [0. 0. 0. 0. 0.]]\n\n  [[0. 0. 0. 0. 0.]\n   [0. 0. 0. 0. 0.]\n   [0. 0. 0. 0. 0.]\n   [0. 0. 0. 0. 0.]\n   [0. 0. 0. 0. 0.]]\n\n  [[0. 0. 0. 0. 0.]\n   [0. 0. 0. 0. 0.]\n   [0. 0. 0. 0. 0.]\n   [0. 0. 0. 0. 0.]\n   [0. 0. 0. 0. 0.]]\n\n  [[0. 0. 0. 0. 0.]\n   [0. 0. 0. 0. 0.]\n   [0. 0. 0. 0. 0.]\n   [0. 0. 0. 0. 0.]\n   [0. 0. 0. 0. 0.]]]\n\n\n [[[0. 0. 0. 0. 0.]\n   [0. 0. 0. 0. 0.]\n   [0. 0. 0. 0. 0.]\n   [0. 0. 0. 0. 0.]\n   [0. 0. 0. 0. 0.]]\n\n  [[0. 0. 0. 0. 0.]\n   [0. 0. 0. 0. 0.]\n   [0. 0. 0. 0. 0.]\n   [0. 0. 0. 0. 0.]\n   [0. 0. 0. 0. 0.]]\n\n  [[0. 0. 0. 0. 0.]\n   [0. 0. 0. 0. 0.]\n   [0. 0. 0. 0. 0.]\n   [0. 0. 0. 0. 0.]\n   [0. 0. 0. 0. 0.]]\n\n  [[0. 0. 0. 0. 0.]\n   [0. 0. 0. 0. 0.]\n   [0. 0. 0. 0. 0.]\n   [0. 0. 0. 0. 0.]\n   [0. 0. 0. 0. 0.]]\n\n  [[0. 0. 0. 0. 0.]\n   [0. 0. 0. 0. 0.]\n   [0. 0. 0. 0. 0.]\n   [0. 0. 0. 0. 0.]\n   [0. 0. 0. 0. 0.]]]\n\n\n [[[0. 0. 0. 0. 0.]\n   [0. 0. 0. 0. 0.]\n   [0. 0. 0. 0. 0.]\n   [0. 0. 0. 0. 0.]\n   [0. 0. 0. 0. 0.]]\n\n  [[0. 0. 0. 0. 0.]\n   [0. 0. 0. 0. 0.]\n   [0. 0. 0. 0. 0.]\n   [0. 0. 0. 0. 0.]\n   [0. 0. 0. 0. 0.]]\n\n  [[0. 0. 0. 0. 0.]\n   [0. 0. 0. 0. 0.]\n   [0. 0. 0. 0. 0.]\n   [0. 0. 0. 0. 0.]\n   [0. 0. 0. 0. 0.]]\n\n  [[0. 0. 0. 0. 0.]\n   [0. 0. 0. 0. 0.]\n   [0. 0. 0. 0. 0.]\n   [0. 0. 0. 0. 0.]\n   [0. 0. 0. 0. 0.]]\n\n  [[0. 0. 0. 0. 0.]\n   [0. 0. 0. 0. 0.]\n   [0. 0. 0. 0. 0.]\n   [0. 0. 0. 0. 0.]\n   [0. 0. 0. 0. 0.]]]\n\n\n [[[0. 0. 0. 0. 0.]\n   [0. 0. 0. 0. 0.]\n   [0. 0. 0. 0. 0.]\n   [0. 0. 0. 0. 0.]\n   [0. 0. 0. 0. 0.]]\n\n  [[0. 0. 0. 0. 0.]\n   [0. 0. 0. 0. 0.]\n   [0. 0. 0. 0. 0.]\n   [0. 0. 0. 0. 0.]\n   [0. 0. 0. 0. 0.]]\n\n  [[0. 0. 0. 0. 0.]\n   [0. 0. 0. 0. 0.]\n   [0. 0. 0. 0. 0.]\n   [0. 0. 0. 0. 0.]\n   [0. 0. 0. 0. 0.]]\n\n  [[0. 0. 0. 0. 0.]\n   [0. 0. 0. 0. 0.]\n   [0. 0. 0. 0. 0.]\n   [0. 0. 0. 0. 0.]\n   [0. 0. 0. 0. 0.]]\n\n  [[0. 0. 0. 0. 0.]\n   [0. 0. 0. 0. 0.]\n   [0. 0. 0. 0. 0.]\n   [0. 0. 0. 0. 0.]\n   [0. 0. 0. 0. 0.]]]], shape=(5, 5, 5, 5), dtype=float32)\n"
    }
   ],
   "source": [
    "t = tf.zeros([5,5,5,5])\n",
    "print(t)"
   ]
  },
  {
   "cell_type": "code",
   "execution_count": 15,
   "metadata": {},
   "outputs": [
    {
     "output_type": "stream",
     "name": "stdout",
     "text": "tf.Tensor(\n[0. 0. 0. 0. 0. 0. 0. 0. 0. 0. 0. 0. 0. 0. 0. 0. 0. 0. 0. 0. 0. 0. 0. 0.\n 0. 0. 0. 0. 0. 0. 0. 0. 0. 0. 0. 0. 0. 0. 0. 0. 0. 0. 0. 0. 0. 0. 0. 0.\n 0. 0. 0. 0. 0. 0. 0. 0. 0. 0. 0. 0. 0. 0. 0. 0. 0. 0. 0. 0. 0. 0. 0. 0.\n 0. 0. 0. 0. 0. 0. 0. 0. 0. 0. 0. 0. 0. 0. 0. 0. 0. 0. 0. 0. 0. 0. 0. 0.\n 0. 0. 0. 0. 0. 0. 0. 0. 0. 0. 0. 0. 0. 0. 0. 0. 0. 0. 0. 0. 0. 0. 0. 0.\n 0. 0. 0. 0. 0. 0. 0. 0. 0. 0. 0. 0. 0. 0. 0. 0. 0. 0. 0. 0. 0. 0. 0. 0.\n 0. 0. 0. 0. 0. 0. 0. 0. 0. 0. 0. 0. 0. 0. 0. 0. 0. 0. 0. 0. 0. 0. 0. 0.\n 0. 0. 0. 0. 0. 0. 0. 0. 0. 0. 0. 0. 0. 0. 0. 0. 0. 0. 0. 0. 0. 0. 0. 0.\n 0. 0. 0. 0. 0. 0. 0. 0. 0. 0. 0. 0. 0. 0. 0. 0. 0. 0. 0. 0. 0. 0. 0. 0.\n 0. 0. 0. 0. 0. 0. 0. 0. 0. 0. 0. 0. 0. 0. 0. 0. 0. 0. 0. 0. 0. 0. 0. 0.\n 0. 0. 0. 0. 0. 0. 0. 0. 0. 0. 0. 0. 0. 0. 0. 0. 0. 0. 0. 0. 0. 0. 0. 0.\n 0. 0. 0. 0. 0. 0. 0. 0. 0. 0. 0. 0. 0. 0. 0. 0. 0. 0. 0. 0. 0. 0. 0. 0.\n 0. 0. 0. 0. 0. 0. 0. 0. 0. 0. 0. 0. 0. 0. 0. 0. 0. 0. 0. 0. 0. 0. 0. 0.\n 0. 0. 0. 0. 0. 0. 0. 0. 0. 0. 0. 0. 0. 0. 0. 0. 0. 0. 0. 0. 0. 0. 0. 0.\n 0. 0. 0. 0. 0. 0. 0. 0. 0. 0. 0. 0. 0. 0. 0. 0. 0. 0. 0. 0. 0. 0. 0. 0.\n 0. 0. 0. 0. 0. 0. 0. 0. 0. 0. 0. 0. 0. 0. 0. 0. 0. 0. 0. 0. 0. 0. 0. 0.\n 0. 0. 0. 0. 0. 0. 0. 0. 0. 0. 0. 0. 0. 0. 0. 0. 0. 0. 0. 0. 0. 0. 0. 0.\n 0. 0. 0. 0. 0. 0. 0. 0. 0. 0. 0. 0. 0. 0. 0. 0. 0. 0. 0. 0. 0. 0. 0. 0.\n 0. 0. 0. 0. 0. 0. 0. 0. 0. 0. 0. 0. 0. 0. 0. 0. 0. 0. 0. 0. 0. 0. 0. 0.\n 0. 0. 0. 0. 0. 0. 0. 0. 0. 0. 0. 0. 0. 0. 0. 0. 0. 0. 0. 0. 0. 0. 0. 0.\n 0. 0. 0. 0. 0. 0. 0. 0. 0. 0. 0. 0. 0. 0. 0. 0. 0. 0. 0. 0. 0. 0. 0. 0.\n 0. 0. 0. 0. 0. 0. 0. 0. 0. 0. 0. 0. 0. 0. 0. 0. 0. 0. 0. 0. 0. 0. 0. 0.\n 0. 0. 0. 0. 0. 0. 0. 0. 0. 0. 0. 0. 0. 0. 0. 0. 0. 0. 0. 0. 0. 0. 0. 0.\n 0. 0. 0. 0. 0. 0. 0. 0. 0. 0. 0. 0. 0. 0. 0. 0. 0. 0. 0. 0. 0. 0. 0. 0.\n 0. 0. 0. 0. 0. 0. 0. 0. 0. 0. 0. 0. 0. 0. 0. 0. 0. 0. 0. 0. 0. 0. 0. 0.\n 0. 0. 0. 0. 0. 0. 0. 0. 0. 0. 0. 0. 0. 0. 0. 0. 0. 0. 0. 0. 0. 0. 0. 0.\n 0.], shape=(625,), dtype=float32)\n"
    }
   ],
   "source": [
    "t = tf.reshape(t, [625])\n",
    "print(t)"
   ]
  },
  {
   "cell_type": "code",
   "execution_count": 16,
   "metadata": {},
   "outputs": [
    {
     "output_type": "stream",
     "name": "stdout",
     "text": "tf.Tensor(\n[[0. 0. 0. 0. 0.]\n [0. 0. 0. 0. 0.]\n [0. 0. 0. 0. 0.]\n [0. 0. 0. 0. 0.]\n [0. 0. 0. 0. 0.]\n [0. 0. 0. 0. 0.]\n [0. 0. 0. 0. 0.]\n [0. 0. 0. 0. 0.]\n [0. 0. 0. 0. 0.]\n [0. 0. 0. 0. 0.]\n [0. 0. 0. 0. 0.]\n [0. 0. 0. 0. 0.]\n [0. 0. 0. 0. 0.]\n [0. 0. 0. 0. 0.]\n [0. 0. 0. 0. 0.]\n [0. 0. 0. 0. 0.]\n [0. 0. 0. 0. 0.]\n [0. 0. 0. 0. 0.]\n [0. 0. 0. 0. 0.]\n [0. 0. 0. 0. 0.]\n [0. 0. 0. 0. 0.]\n [0. 0. 0. 0. 0.]\n [0. 0. 0. 0. 0.]\n [0. 0. 0. 0. 0.]\n [0. 0. 0. 0. 0.]\n [0. 0. 0. 0. 0.]\n [0. 0. 0. 0. 0.]\n [0. 0. 0. 0. 0.]\n [0. 0. 0. 0. 0.]\n [0. 0. 0. 0. 0.]\n [0. 0. 0. 0. 0.]\n [0. 0. 0. 0. 0.]\n [0. 0. 0. 0. 0.]\n [0. 0. 0. 0. 0.]\n [0. 0. 0. 0. 0.]\n [0. 0. 0. 0. 0.]\n [0. 0. 0. 0. 0.]\n [0. 0. 0. 0. 0.]\n [0. 0. 0. 0. 0.]\n [0. 0. 0. 0. 0.]\n [0. 0. 0. 0. 0.]\n [0. 0. 0. 0. 0.]\n [0. 0. 0. 0. 0.]\n [0. 0. 0. 0. 0.]\n [0. 0. 0. 0. 0.]\n [0. 0. 0. 0. 0.]\n [0. 0. 0. 0. 0.]\n [0. 0. 0. 0. 0.]\n [0. 0. 0. 0. 0.]\n [0. 0. 0. 0. 0.]\n [0. 0. 0. 0. 0.]\n [0. 0. 0. 0. 0.]\n [0. 0. 0. 0. 0.]\n [0. 0. 0. 0. 0.]\n [0. 0. 0. 0. 0.]\n [0. 0. 0. 0. 0.]\n [0. 0. 0. 0. 0.]\n [0. 0. 0. 0. 0.]\n [0. 0. 0. 0. 0.]\n [0. 0. 0. 0. 0.]\n [0. 0. 0. 0. 0.]\n [0. 0. 0. 0. 0.]\n [0. 0. 0. 0. 0.]\n [0. 0. 0. 0. 0.]\n [0. 0. 0. 0. 0.]\n [0. 0. 0. 0. 0.]\n [0. 0. 0. 0. 0.]\n [0. 0. 0. 0. 0.]\n [0. 0. 0. 0. 0.]\n [0. 0. 0. 0. 0.]\n [0. 0. 0. 0. 0.]\n [0. 0. 0. 0. 0.]\n [0. 0. 0. 0. 0.]\n [0. 0. 0. 0. 0.]\n [0. 0. 0. 0. 0.]\n [0. 0. 0. 0. 0.]\n [0. 0. 0. 0. 0.]\n [0. 0. 0. 0. 0.]\n [0. 0. 0. 0. 0.]\n [0. 0. 0. 0. 0.]\n [0. 0. 0. 0. 0.]\n [0. 0. 0. 0. 0.]\n [0. 0. 0. 0. 0.]\n [0. 0. 0. 0. 0.]\n [0. 0. 0. 0. 0.]\n [0. 0. 0. 0. 0.]\n [0. 0. 0. 0. 0.]\n [0. 0. 0. 0. 0.]\n [0. 0. 0. 0. 0.]\n [0. 0. 0. 0. 0.]\n [0. 0. 0. 0. 0.]\n [0. 0. 0. 0. 0.]\n [0. 0. 0. 0. 0.]\n [0. 0. 0. 0. 0.]\n [0. 0. 0. 0. 0.]\n [0. 0. 0. 0. 0.]\n [0. 0. 0. 0. 0.]\n [0. 0. 0. 0. 0.]\n [0. 0. 0. 0. 0.]\n [0. 0. 0. 0. 0.]\n [0. 0. 0. 0. 0.]\n [0. 0. 0. 0. 0.]\n [0. 0. 0. 0. 0.]\n [0. 0. 0. 0. 0.]\n [0. 0. 0. 0. 0.]\n [0. 0. 0. 0. 0.]\n [0. 0. 0. 0. 0.]\n [0. 0. 0. 0. 0.]\n [0. 0. 0. 0. 0.]\n [0. 0. 0. 0. 0.]\n [0. 0. 0. 0. 0.]\n [0. 0. 0. 0. 0.]\n [0. 0. 0. 0. 0.]\n [0. 0. 0. 0. 0.]\n [0. 0. 0. 0. 0.]\n [0. 0. 0. 0. 0.]\n [0. 0. 0. 0. 0.]\n [0. 0. 0. 0. 0.]\n [0. 0. 0. 0. 0.]\n [0. 0. 0. 0. 0.]\n [0. 0. 0. 0. 0.]\n [0. 0. 0. 0. 0.]\n [0. 0. 0. 0. 0.]\n [0. 0. 0. 0. 0.]\n [0. 0. 0. 0. 0.]], shape=(125, 5), dtype=float32)\n"
    }
   ],
   "source": [
    "t = tf.reshape(t, [125, -1]) # -1 will understand that second value should be 5, 125*5 = 625\n",
    "print(t)"
   ]
  }
 ],
 "metadata": {
  "language_info": {
   "codemirror_mode": {
    "name": "ipython",
    "version": 3
   },
   "file_extension": ".py",
   "mimetype": "text/x-python",
   "name": "python",
   "nbconvert_exporter": "python",
   "pygments_lexer": "ipython3",
   "version": "3.8.3-final"
  },
  "orig_nbformat": 2,
  "kernelspec": {
   "name": "python38364bita552368636874d84bdc4d8c5896b8460",
   "display_name": "Python 3.8.3 64-bit"
  }
 },
 "nbformat": 4,
 "nbformat_minor": 2
}