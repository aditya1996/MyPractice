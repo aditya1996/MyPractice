{
 "cells": [
  {
   "cell_type": "markdown",
   "metadata": {},
   "source": [
    "# Data Pre-Processing"
   ]
  },
  {
   "cell_type": "markdown",
   "metadata": {},
   "source": [
    "## Importing the Libraries"
   ]
  },
  {
   "cell_type": "code",
   "execution_count": 1,
   "metadata": {},
   "outputs": [],
   "source": [
    "import pandas as pd \n",
    "import numpy as np \n",
    "import tensorflow as tf"
   ]
  },
  {
   "cell_type": "code",
   "execution_count": 2,
   "metadata": {},
   "outputs": [
    {
     "output_type": "execute_result",
     "data": {
      "text/plain": "'2.3.1'"
     },
     "metadata": {},
     "execution_count": 2
    }
   ],
   "source": [
    "tf.__version__"
   ]
  },
  {
   "cell_type": "markdown",
   "metadata": {},
   "source": [
    "## Dataset"
   ]
  },
  {
   "cell_type": "code",
   "execution_count": 3,
   "metadata": {},
   "outputs": [],
   "source": [
    "dataset = pd.read_excel(\"./Dataset/Folds5x2_pp.xlsx\")\n",
    "\n",
    "X = dataset.iloc[:, :-1].values\n",
    "y = dataset.iloc[:, -1].values"
   ]
  },
  {
   "cell_type": "code",
   "execution_count": 11,
   "metadata": {},
   "outputs": [
    {
     "output_type": "execute_result",
     "data": {
      "text/plain": "      AT      V       AP     RH      PE\n0  14.96  41.76  1024.07  73.17  463.26\n1  25.18  62.96  1020.04  59.08  444.37\n2   5.11  39.40  1012.16  92.14  488.56\n3  20.86  57.32  1010.24  76.64  446.48\n4  10.82  37.50  1009.23  96.62  473.90",
      "text/html": "<div>\n<style scoped>\n    .dataframe tbody tr th:only-of-type {\n        vertical-align: middle;\n    }\n\n    .dataframe tbody tr th {\n        vertical-align: top;\n    }\n\n    .dataframe thead th {\n        text-align: right;\n    }\n</style>\n<table border=\"1\" class=\"dataframe\">\n  <thead>\n    <tr style=\"text-align: right;\">\n      <th></th>\n      <th>AT</th>\n      <th>V</th>\n      <th>AP</th>\n      <th>RH</th>\n      <th>PE</th>\n    </tr>\n  </thead>\n  <tbody>\n    <tr>\n      <th>0</th>\n      <td>14.96</td>\n      <td>41.76</td>\n      <td>1024.07</td>\n      <td>73.17</td>\n      <td>463.26</td>\n    </tr>\n    <tr>\n      <th>1</th>\n      <td>25.18</td>\n      <td>62.96</td>\n      <td>1020.04</td>\n      <td>59.08</td>\n      <td>444.37</td>\n    </tr>\n    <tr>\n      <th>2</th>\n      <td>5.11</td>\n      <td>39.40</td>\n      <td>1012.16</td>\n      <td>92.14</td>\n      <td>488.56</td>\n    </tr>\n    <tr>\n      <th>3</th>\n      <td>20.86</td>\n      <td>57.32</td>\n      <td>1010.24</td>\n      <td>76.64</td>\n      <td>446.48</td>\n    </tr>\n    <tr>\n      <th>4</th>\n      <td>10.82</td>\n      <td>37.50</td>\n      <td>1009.23</td>\n      <td>96.62</td>\n      <td>473.90</td>\n    </tr>\n  </tbody>\n</table>\n</div>"
     },
     "metadata": {},
     "execution_count": 11
    }
   ],
   "source": [
    "dataset.head()"
   ]
  },
  {
   "cell_type": "code",
   "execution_count": 13,
   "metadata": {},
   "outputs": [
    {
     "output_type": "execute_result",
     "data": {
      "text/plain": "                AT            V           AP           RH           PE\ncount  9568.000000  9568.000000  9568.000000  9568.000000  9568.000000\nmean     19.651231    54.305804  1013.259078    73.308978   454.365009\nstd       7.452473    12.707893     5.938784    14.600269    17.066995\nmin       1.810000    25.360000   992.890000    25.560000   420.260000\n25%      13.510000    41.740000  1009.100000    63.327500   439.750000\n50%      20.345000    52.080000  1012.940000    74.975000   451.550000\n75%      25.720000    66.540000  1017.260000    84.830000   468.430000\nmax      37.110000    81.560000  1033.300000   100.160000   495.760000",
      "text/html": "<div>\n<style scoped>\n    .dataframe tbody tr th:only-of-type {\n        vertical-align: middle;\n    }\n\n    .dataframe tbody tr th {\n        vertical-align: top;\n    }\n\n    .dataframe thead th {\n        text-align: right;\n    }\n</style>\n<table border=\"1\" class=\"dataframe\">\n  <thead>\n    <tr style=\"text-align: right;\">\n      <th></th>\n      <th>AT</th>\n      <th>V</th>\n      <th>AP</th>\n      <th>RH</th>\n      <th>PE</th>\n    </tr>\n  </thead>\n  <tbody>\n    <tr>\n      <th>count</th>\n      <td>9568.000000</td>\n      <td>9568.000000</td>\n      <td>9568.000000</td>\n      <td>9568.000000</td>\n      <td>9568.000000</td>\n    </tr>\n    <tr>\n      <th>mean</th>\n      <td>19.651231</td>\n      <td>54.305804</td>\n      <td>1013.259078</td>\n      <td>73.308978</td>\n      <td>454.365009</td>\n    </tr>\n    <tr>\n      <th>std</th>\n      <td>7.452473</td>\n      <td>12.707893</td>\n      <td>5.938784</td>\n      <td>14.600269</td>\n      <td>17.066995</td>\n    </tr>\n    <tr>\n      <th>min</th>\n      <td>1.810000</td>\n      <td>25.360000</td>\n      <td>992.890000</td>\n      <td>25.560000</td>\n      <td>420.260000</td>\n    </tr>\n    <tr>\n      <th>25%</th>\n      <td>13.510000</td>\n      <td>41.740000</td>\n      <td>1009.100000</td>\n      <td>63.327500</td>\n      <td>439.750000</td>\n    </tr>\n    <tr>\n      <th>50%</th>\n      <td>20.345000</td>\n      <td>52.080000</td>\n      <td>1012.940000</td>\n      <td>74.975000</td>\n      <td>451.550000</td>\n    </tr>\n    <tr>\n      <th>75%</th>\n      <td>25.720000</td>\n      <td>66.540000</td>\n      <td>1017.260000</td>\n      <td>84.830000</td>\n      <td>468.430000</td>\n    </tr>\n    <tr>\n      <th>max</th>\n      <td>37.110000</td>\n      <td>81.560000</td>\n      <td>1033.300000</td>\n      <td>100.160000</td>\n      <td>495.760000</td>\n    </tr>\n  </tbody>\n</table>\n</div>"
     },
     "metadata": {},
     "execution_count": 13
    }
   ],
   "source": [
    "dataset.describe()"
   ]
  },
  {
   "cell_type": "code",
   "execution_count": 4,
   "metadata": {},
   "outputs": [
    {
     "output_type": "stream",
     "name": "stdout",
     "text": "[[  14.96   41.76 1024.07   73.17]\n [  25.18   62.96 1020.04   59.08]\n [   5.11   39.4  1012.16   92.14]\n ...\n [  31.32   74.33 1012.92   36.48]\n [  24.48   69.45 1013.86   62.39]\n [  21.6    62.52 1017.23   67.87]]\n"
    }
   ],
   "source": [
    "print(X)"
   ]
  },
  {
   "cell_type": "code",
   "execution_count": 5,
   "metadata": {},
   "outputs": [
    {
     "output_type": "stream",
     "name": "stdout",
     "text": "[463.26 444.37 488.56 ... 429.57 435.74 453.28]\n"
    }
   ],
   "source": [
    "print(y)"
   ]
  },
  {
   "cell_type": "markdown",
   "metadata": {},
   "source": [
    "## Splitting the Dataset into train and test set"
   ]
  },
  {
   "cell_type": "code",
   "execution_count": 14,
   "metadata": {},
   "outputs": [],
   "source": [
    "from sklearn.model_selection import train_test_split\n",
    "\n",
    "X_train, X_test, y_train, y_test = train_test_split(X, y, test_size = 0.2, random_state = 0)"
   ]
  },
  {
   "cell_type": "markdown",
   "metadata": {},
   "source": [
    "# Building the ANN"
   ]
  },
  {
   "cell_type": "markdown",
   "metadata": {},
   "source": [
    "## Initializing the ANN"
   ]
  },
  {
   "cell_type": "code",
   "execution_count": 16,
   "metadata": {},
   "outputs": [],
   "source": [
    "ann = tf.keras.models.Sequential()"
   ]
  },
  {
   "cell_type": "markdown",
   "metadata": {},
   "source": [
    "## Adding the input and first hidden layer"
   ]
  },
  {
   "cell_type": "code",
   "execution_count": 17,
   "metadata": {},
   "outputs": [],
   "source": [
    "# Input layer neurons are automatically detected by TensorFlow when we enter the Matrix of Features (X), so we don't need to specify it.\n",
    "\n",
    "ann.add(tf.keras.layers.Dense(units = 6, activation = 'relu')) # First Hidden Layer"
   ]
  },
  {
   "cell_type": "markdown",
   "metadata": {},
   "source": [
    "## Adding the second hidden layer"
   ]
  },
  {
   "cell_type": "code",
   "execution_count": 18,
   "metadata": {},
   "outputs": [],
   "source": [
    "ann.add(tf.keras.layers.Dense(units = 6, activation = 'relu')) # Second Hidden Layer"
   ]
  },
  {
   "cell_type": "markdown",
   "metadata": {},
   "source": [
    "## Adding the Output Layer"
   ]
  },
  {
   "cell_type": "code",
   "execution_count": 19,
   "metadata": {},
   "outputs": [],
   "source": [
    "ann.add(tf.keras.layers.Dense(units = 1)) # or softmax(Have more than 2 categories) & sigmoid (Yes or No) are used for classfication but this is a regression problem, so we don't keep any activation function."
   ]
  },
  {
   "cell_type": "markdown",
   "metadata": {},
   "source": [
    "# Training the ANN"
   ]
  },
  {
   "cell_type": "markdown",
   "metadata": {},
   "source": [
    "## Compiling the ANN"
   ]
  },
  {
   "cell_type": "code",
   "execution_count": 20,
   "metadata": {},
   "outputs": [],
   "source": [
    "ann.compile(optimizer = 'adam', loss = 'mean_squared_error')"
   ]
  },
  {
   "cell_type": "markdown",
   "metadata": {},
   "source": [
    "## Training the ANN on the Training Set"
   ]
  },
  {
   "cell_type": "code",
   "execution_count": 21,
   "metadata": {},
   "outputs": [
    {
     "output_type": "stream",
     "name": "stdout",
     "text": "Epoch 1/100\n240/240 [==============================] - 0s 760us/step - loss: 79881.0078\nEpoch 2/100\n240/240 [==============================] - 0s 691us/step - loss: 1325.9751\nEpoch 3/100\n240/240 [==============================] - 0s 913us/step - loss: 594.2806\nEpoch 4/100\n240/240 [==============================] - 0s 829us/step - loss: 578.6903\nEpoch 5/100\n240/240 [==============================] - 0s 788us/step - loss: 560.3789\nEpoch 6/100\n240/240 [==============================] - 0s 775us/step - loss: 539.1080\nEpoch 7/100\n240/240 [==============================] - 0s 861us/step - loss: 515.7716\nEpoch 8/100\n240/240 [==============================] - 0s 695us/step - loss: 489.8471\nEpoch 9/100\n240/240 [==============================] - 0s 840us/step - loss: 462.7559\nEpoch 10/100\n240/240 [==============================] - 0s 772us/step - loss: 432.9120\nEpoch 11/100\n240/240 [==============================] - 0s 692us/step - loss: 402.7505\nEpoch 12/100\n240/240 [==============================] - 0s 710us/step - loss: 370.7055\nEpoch 13/100\n240/240 [==============================] - 0s 701us/step - loss: 338.8291\nEpoch 14/100\n240/240 [==============================] - 0s 760us/step - loss: 306.3901\nEpoch 15/100\n240/240 [==============================] - 0s 799us/step - loss: 273.9395\nEpoch 16/100\n240/240 [==============================] - 0s 2ms/step - loss: 242.9453\nEpoch 17/100\n240/240 [==============================] - 0s 805us/step - loss: 212.7730\nEpoch 18/100\n240/240 [==============================] - 0s 938us/step - loss: 184.2910\nEpoch 19/100\n240/240 [==============================] - 0s 941us/step - loss: 157.2902\nEpoch 20/100\n240/240 [==============================] - 0s 789us/step - loss: 132.9209\nEpoch 21/100\n240/240 [==============================] - 0s 750us/step - loss: 110.8798\nEpoch 22/100\n240/240 [==============================] - 0s 701us/step - loss: 91.9565\nEpoch 23/100\n240/240 [==============================] - 0s 728us/step - loss: 76.1838\nEpoch 24/100\n240/240 [==============================] - 0s 1ms/step - loss: 62.8232\nEpoch 25/100\n240/240 [==============================] - 0s 1ms/step - loss: 52.5744\nEpoch 26/100\n240/240 [==============================] - 0s 902us/step - loss: 45.1660\nEpoch 27/100\n240/240 [==============================] - 0s 805us/step - loss: 39.5399\nEpoch 28/100\n240/240 [==============================] - 0s 944us/step - loss: 35.7623\nEpoch 29/100\n240/240 [==============================] - 0s 844us/step - loss: 33.6210\nEpoch 30/100\n240/240 [==============================] - 0s 995us/step - loss: 31.7144\nEpoch 31/100\n240/240 [==============================] - 0s 853us/step - loss: 31.0414\nEpoch 32/100\n240/240 [==============================] - 0s 751us/step - loss: 30.2071\nEpoch 33/100\n240/240 [==============================] - 0s 831us/step - loss: 29.7199\nEpoch 34/100\n240/240 [==============================] - 0s 833us/step - loss: 29.4349\nEpoch 35/100\n240/240 [==============================] - 0s 665us/step - loss: 29.9890\nEpoch 36/100\n240/240 [==============================] - 0s 705us/step - loss: 28.8567\nEpoch 37/100\n240/240 [==============================] - 0s 743us/step - loss: 28.8855\nEpoch 38/100\n240/240 [==============================] - 0s 907us/step - loss: 28.5715\nEpoch 39/100\n240/240 [==============================] - 0s 1ms/step - loss: 28.8254\nEpoch 40/100\n240/240 [==============================] - 0s 977us/step - loss: 28.6768\nEpoch 41/100\n240/240 [==============================] - 0s 780us/step - loss: 28.3012\nEpoch 42/100\n240/240 [==============================] - 0s 931us/step - loss: 27.9945\nEpoch 43/100\n240/240 [==============================] - 0s 1ms/step - loss: 27.8427\nEpoch 44/100\n240/240 [==============================] - 0s 994us/step - loss: 28.1065\nEpoch 45/100\n240/240 [==============================] - 0s 843us/step - loss: 28.0737\nEpoch 46/100\n240/240 [==============================] - 0s 939us/step - loss: 27.5541\nEpoch 47/100\n240/240 [==============================] - 0s 865us/step - loss: 27.6322\nEpoch 48/100\n240/240 [==============================] - 0s 830us/step - loss: 27.3832\nEpoch 49/100\n240/240 [==============================] - 0s 674us/step - loss: 27.1541\nEpoch 50/100\n240/240 [==============================] - 0s 712us/step - loss: 27.3553\nEpoch 51/100\n240/240 [==============================] - 0s 752us/step - loss: 27.4447\nEpoch 52/100\n240/240 [==============================] - 0s 942us/step - loss: 27.0655\nEpoch 53/100\n240/240 [==============================] - 0s 1ms/step - loss: 27.0414\nEpoch 54/100\n240/240 [==============================] - 0s 1ms/step - loss: 26.8331\nEpoch 55/100\n240/240 [==============================] - 0s 1ms/step - loss: 27.0108\nEpoch 56/100\n240/240 [==============================] - 0s 1ms/step - loss: 26.7325\nEpoch 57/100\n240/240 [==============================] - 0s 873us/step - loss: 27.3418\nEpoch 58/100\n240/240 [==============================] - 0s 698us/step - loss: 26.8671\nEpoch 59/100\n240/240 [==============================] - 0s 1ms/step - loss: 26.7471\nEpoch 60/100\n240/240 [==============================] - 0s 1ms/step - loss: 26.5136\nEpoch 61/100\n240/240 [==============================] - 0s 1ms/step - loss: 27.1538\nEpoch 62/100\n240/240 [==============================] - 0s 910us/step - loss: 26.7878\nEpoch 63/100\n240/240 [==============================] - 0s 892us/step - loss: 26.6890\nEpoch 64/100\n240/240 [==============================] - 0s 1ms/step - loss: 27.0839\nEpoch 65/100\n240/240 [==============================] - 0s 826us/step - loss: 26.6265\nEpoch 66/100\n240/240 [==============================] - 0s 1ms/step - loss: 26.5095\nEpoch 67/100\n240/240 [==============================] - 0s 999us/step - loss: 26.5192\nEpoch 68/100\n240/240 [==============================] - 0s 1ms/step - loss: 26.7837\nEpoch 69/100\n240/240 [==============================] - 0s 922us/step - loss: 26.7244\nEpoch 70/100\n240/240 [==============================] - 0s 1ms/step - loss: 26.6164\nEpoch 71/100\n240/240 [==============================] - 0s 1ms/step - loss: 26.8080\nEpoch 72/100\n240/240 [==============================] - 0s 1ms/step - loss: 26.4120\nEpoch 73/100\n240/240 [==============================] - 0s 1ms/step - loss: 26.7816\nEpoch 74/100\n240/240 [==============================] - 0s 734us/step - loss: 26.6630\nEpoch 75/100\n240/240 [==============================] - 0s 985us/step - loss: 26.4806\nEpoch 76/100\n240/240 [==============================] - 0s 808us/step - loss: 26.5951\nEpoch 77/100\n240/240 [==============================] - 0s 880us/step - loss: 26.4558\nEpoch 78/100\n240/240 [==============================] - 0s 741us/step - loss: 26.5184\nEpoch 79/100\n240/240 [==============================] - 0s 705us/step - loss: 26.4588\nEpoch 80/100\n240/240 [==============================] - 0s 960us/step - loss: 26.6489\nEpoch 81/100\n240/240 [==============================] - 0s 823us/step - loss: 26.7246\nEpoch 82/100\n240/240 [==============================] - 0s 863us/step - loss: 26.3226\nEpoch 83/100\n240/240 [==============================] - 0s 1ms/step - loss: 26.2789\nEpoch 84/100\n240/240 [==============================] - 0s 1ms/step - loss: 26.3220\nEpoch 85/100\n240/240 [==============================] - 0s 1ms/step - loss: 26.4610\nEpoch 86/100\n240/240 [==============================] - 0s 1ms/step - loss: 26.3879\nEpoch 87/100\n240/240 [==============================] - 0s 764us/step - loss: 26.3088\nEpoch 88/100\n240/240 [==============================] - 0s 834us/step - loss: 26.4794\nEpoch 89/100\n240/240 [==============================] - 0s 853us/step - loss: 26.5674\nEpoch 90/100\n240/240 [==============================] - 0s 962us/step - loss: 26.5009\nEpoch 91/100\n240/240 [==============================] - 0s 701us/step - loss: 26.1221\nEpoch 92/100\n240/240 [==============================] - 0s 720us/step - loss: 26.3015\nEpoch 93/100\n240/240 [==============================] - 0s 1ms/step - loss: 26.4288\nEpoch 94/100\n240/240 [==============================] - 0s 847us/step - loss: 26.7428\nEpoch 95/100\n240/240 [==============================] - 0s 930us/step - loss: 26.1961\nEpoch 96/100\n240/240 [==============================] - 0s 1ms/step - loss: 26.3972\nEpoch 97/100\n240/240 [==============================] - 0s 1ms/step - loss: 26.3949\nEpoch 98/100\n240/240 [==============================] - 0s 1ms/step - loss: 26.7035\nEpoch 99/100\n240/240 [==============================] - 0s 1ms/step - loss: 26.3828\nEpoch 100/100\n240/240 [==============================] - 0s 1ms/step - loss: 26.5094\n"
    },
    {
     "output_type": "execute_result",
     "data": {
      "text/plain": "<tensorflow.python.keras.callbacks.History at 0x14589ec70>"
     },
     "metadata": {},
     "execution_count": 21
    }
   ],
   "source": [
    "ann.fit(X_train, y_train, batch_size = 32, epochs = 100)"
   ]
  },
  {
   "cell_type": "markdown",
   "metadata": {},
   "source": [
    "## Predicting the result of Test set"
   ]
  },
  {
   "cell_type": "code",
   "execution_count": 25,
   "metadata": {},
   "outputs": [
    {
     "output_type": "stream",
     "name": "stdout",
     "text": "Predict | Actual\n[[432.82 431.23]\n [464.03 460.01]\n [467.58 461.14]\n [450.59 445.9 ]\n [461.77 451.29]\n [430.95 432.68]\n [473.32 477.5 ]\n [459.39 459.68]\n [476.9  477.5 ]\n [445.87 444.99]\n [443.92 444.37]\n [443.5  437.04]\n [448.27 442.34]\n [443.96 440.74]\n [439.64 436.55]\n [457.57 460.24]\n [449.62 448.66]\n [438.9  432.94]\n [452.95 452.82]\n [430.07 432.2 ]]\n"
    }
   ],
   "source": [
    "y_pred = ann.predict(X_test)\n",
    "\n",
    "np.set_printoptions(precision=2)\n",
    "print(\"Predict | Actual\")\n",
    "print(np.concatenate((y_pred.reshape(len(y_pred), 1), y_test.reshape(len(y_test), 1)), 1)[0:20])"
   ]
  },
  {
   "cell_type": "code",
   "execution_count": null,
   "metadata": {},
   "outputs": [],
   "source": []
  }
 ],
 "metadata": {
  "language_info": {
   "codemirror_mode": {
    "name": "ipython",
    "version": 3
   },
   "file_extension": ".py",
   "mimetype": "text/x-python",
   "name": "python",
   "nbconvert_exporter": "python",
   "pygments_lexer": "ipython3",
   "version": "3.8.3-final"
  },
  "orig_nbformat": 2,
  "kernelspec": {
   "name": "python38364bita552368636874d84bdc4d8c5896b8460",
   "display_name": "Python 3.8.3 64-bit"
  }
 },
 "nbformat": 4,
 "nbformat_minor": 2
}