{
 "cells": [
  {
   "cell_type": "markdown",
   "metadata": {},
   "source": [
    "# Data Pre-Processing"
   ]
  },
  {
   "cell_type": "markdown",
   "metadata": {},
   "source": [
    "## Importing the Libraries"
   ]
  },
  {
   "cell_type": "code",
   "execution_count": 1,
   "metadata": {},
   "outputs": [],
   "source": [
    "import pandas as pd \n",
    "import numpy as np \n",
    "import tensorflow as tf"
   ]
  },
  {
   "cell_type": "code",
   "execution_count": 2,
   "metadata": {},
   "outputs": [
    {
     "output_type": "execute_result",
     "data": {
      "text/plain": "'2.3.1'"
     },
     "metadata": {},
     "execution_count": 2
    }
   ],
   "source": [
    "tf.__version__"
   ]
  },
  {
   "cell_type": "markdown",
   "metadata": {},
   "source": [
    "## Dataset"
   ]
  },
  {
   "cell_type": "code",
   "execution_count": 3,
   "metadata": {},
   "outputs": [],
   "source": [
    "dataset = pd.read_excel(\"./Dataset/Folds5x2_pp.xlsx\")\n",
    "\n",
    "X = dataset.iloc[:, :-1].values\n",
    "y = dataset.iloc[:, -1].values"
   ]
  },
  {
   "cell_type": "code",
   "execution_count": 4,
   "metadata": {},
   "outputs": [
    {
     "output_type": "execute_result",
     "data": {
      "text/plain": "      AT      V       AP     RH      PE\n0  14.96  41.76  1024.07  73.17  463.26\n1  25.18  62.96  1020.04  59.08  444.37\n2   5.11  39.40  1012.16  92.14  488.56\n3  20.86  57.32  1010.24  76.64  446.48\n4  10.82  37.50  1009.23  96.62  473.90",
      "text/html": "<div>\n<style scoped>\n    .dataframe tbody tr th:only-of-type {\n        vertical-align: middle;\n    }\n\n    .dataframe tbody tr th {\n        vertical-align: top;\n    }\n\n    .dataframe thead th {\n        text-align: right;\n    }\n</style>\n<table border=\"1\" class=\"dataframe\">\n  <thead>\n    <tr style=\"text-align: right;\">\n      <th></th>\n      <th>AT</th>\n      <th>V</th>\n      <th>AP</th>\n      <th>RH</th>\n      <th>PE</th>\n    </tr>\n  </thead>\n  <tbody>\n    <tr>\n      <th>0</th>\n      <td>14.96</td>\n      <td>41.76</td>\n      <td>1024.07</td>\n      <td>73.17</td>\n      <td>463.26</td>\n    </tr>\n    <tr>\n      <th>1</th>\n      <td>25.18</td>\n      <td>62.96</td>\n      <td>1020.04</td>\n      <td>59.08</td>\n      <td>444.37</td>\n    </tr>\n    <tr>\n      <th>2</th>\n      <td>5.11</td>\n      <td>39.40</td>\n      <td>1012.16</td>\n      <td>92.14</td>\n      <td>488.56</td>\n    </tr>\n    <tr>\n      <th>3</th>\n      <td>20.86</td>\n      <td>57.32</td>\n      <td>1010.24</td>\n      <td>76.64</td>\n      <td>446.48</td>\n    </tr>\n    <tr>\n      <th>4</th>\n      <td>10.82</td>\n      <td>37.50</td>\n      <td>1009.23</td>\n      <td>96.62</td>\n      <td>473.90</td>\n    </tr>\n  </tbody>\n</table>\n</div>"
     },
     "metadata": {},
     "execution_count": 4
    }
   ],
   "source": [
    "dataset.head()"
   ]
  },
  {
   "cell_type": "code",
   "execution_count": 5,
   "metadata": {},
   "outputs": [
    {
     "output_type": "execute_result",
     "data": {
      "text/plain": "                AT            V           AP           RH           PE\ncount  9568.000000  9568.000000  9568.000000  9568.000000  9568.000000\nmean     19.651231    54.305804  1013.259078    73.308978   454.365009\nstd       7.452473    12.707893     5.938784    14.600269    17.066995\nmin       1.810000    25.360000   992.890000    25.560000   420.260000\n25%      13.510000    41.740000  1009.100000    63.327500   439.750000\n50%      20.345000    52.080000  1012.940000    74.975000   451.550000\n75%      25.720000    66.540000  1017.260000    84.830000   468.430000\nmax      37.110000    81.560000  1033.300000   100.160000   495.760000",
      "text/html": "<div>\n<style scoped>\n    .dataframe tbody tr th:only-of-type {\n        vertical-align: middle;\n    }\n\n    .dataframe tbody tr th {\n        vertical-align: top;\n    }\n\n    .dataframe thead th {\n        text-align: right;\n    }\n</style>\n<table border=\"1\" class=\"dataframe\">\n  <thead>\n    <tr style=\"text-align: right;\">\n      <th></th>\n      <th>AT</th>\n      <th>V</th>\n      <th>AP</th>\n      <th>RH</th>\n      <th>PE</th>\n    </tr>\n  </thead>\n  <tbody>\n    <tr>\n      <th>count</th>\n      <td>9568.000000</td>\n      <td>9568.000000</td>\n      <td>9568.000000</td>\n      <td>9568.000000</td>\n      <td>9568.000000</td>\n    </tr>\n    <tr>\n      <th>mean</th>\n      <td>19.651231</td>\n      <td>54.305804</td>\n      <td>1013.259078</td>\n      <td>73.308978</td>\n      <td>454.365009</td>\n    </tr>\n    <tr>\n      <th>std</th>\n      <td>7.452473</td>\n      <td>12.707893</td>\n      <td>5.938784</td>\n      <td>14.600269</td>\n      <td>17.066995</td>\n    </tr>\n    <tr>\n      <th>min</th>\n      <td>1.810000</td>\n      <td>25.360000</td>\n      <td>992.890000</td>\n      <td>25.560000</td>\n      <td>420.260000</td>\n    </tr>\n    <tr>\n      <th>25%</th>\n      <td>13.510000</td>\n      <td>41.740000</td>\n      <td>1009.100000</td>\n      <td>63.327500</td>\n      <td>439.750000</td>\n    </tr>\n    <tr>\n      <th>50%</th>\n      <td>20.345000</td>\n      <td>52.080000</td>\n      <td>1012.940000</td>\n      <td>74.975000</td>\n      <td>451.550000</td>\n    </tr>\n    <tr>\n      <th>75%</th>\n      <td>25.720000</td>\n      <td>66.540000</td>\n      <td>1017.260000</td>\n      <td>84.830000</td>\n      <td>468.430000</td>\n    </tr>\n    <tr>\n      <th>max</th>\n      <td>37.110000</td>\n      <td>81.560000</td>\n      <td>1033.300000</td>\n      <td>100.160000</td>\n      <td>495.760000</td>\n    </tr>\n  </tbody>\n</table>\n</div>"
     },
     "metadata": {},
     "execution_count": 5
    }
   ],
   "source": [
    "dataset.describe()"
   ]
  },
  {
   "cell_type": "code",
   "execution_count": 6,
   "metadata": {},
   "outputs": [
    {
     "output_type": "stream",
     "name": "stdout",
     "text": "[[  14.96   41.76 1024.07   73.17]\n [  25.18   62.96 1020.04   59.08]\n [   5.11   39.4  1012.16   92.14]\n ...\n [  31.32   74.33 1012.92   36.48]\n [  24.48   69.45 1013.86   62.39]\n [  21.6    62.52 1017.23   67.87]]\n"
    }
   ],
   "source": [
    "print(X)"
   ]
  },
  {
   "cell_type": "code",
   "execution_count": 7,
   "metadata": {},
   "outputs": [
    {
     "output_type": "stream",
     "name": "stdout",
     "text": "[463.26 444.37 488.56 ... 429.57 435.74 453.28]\n"
    }
   ],
   "source": [
    "print(y)"
   ]
  },
  {
   "cell_type": "markdown",
   "metadata": {},
   "source": [
    "## Splitting the Dataset into train and test set"
   ]
  },
  {
   "cell_type": "code",
   "execution_count": 8,
   "metadata": {},
   "outputs": [],
   "source": [
    "from sklearn.model_selection import train_test_split\n",
    "\n",
    "X_train, X_test, y_train, y_test = train_test_split(X, y, test_size = 0.2, random_state = 0)"
   ]
  },
  {
   "cell_type": "markdown",
   "metadata": {},
   "source": [
    "# Building the ANN"
   ]
  },
  {
   "cell_type": "markdown",
   "metadata": {},
   "source": [
    "## Initializing the ANN"
   ]
  },
  {
   "cell_type": "code",
   "execution_count": 9,
   "metadata": {},
   "outputs": [],
   "source": [
    "ann = tf.keras.models.Sequential()"
   ]
  },
  {
   "cell_type": "markdown",
   "metadata": {},
   "source": [
    "## Adding the input and first hidden layer"
   ]
  },
  {
   "cell_type": "code",
   "execution_count": 10,
   "metadata": {},
   "outputs": [],
   "source": [
    "# Input layer neurons are automatically detected by TensorFlow when we enter the Matrix of Features (X), so we don't need to specify it.\n",
    "\n",
    "ann.add(tf.keras.layers.Dense(units = 6, activation = 'relu')) # First Hidden Layer"
   ]
  },
  {
   "cell_type": "markdown",
   "metadata": {},
   "source": [
    "## Adding the second hidden layer"
   ]
  },
  {
   "cell_type": "code",
   "execution_count": 11,
   "metadata": {},
   "outputs": [],
   "source": [
    "ann.add(tf.keras.layers.Dense(units = 6, activation = 'relu')) # Second Hidden Layer"
   ]
  },
  {
   "cell_type": "markdown",
   "metadata": {},
   "source": [
    "## Adding the Output Layer"
   ]
  },
  {
   "cell_type": "code",
   "execution_count": 12,
   "metadata": {},
   "outputs": [],
   "source": [
    "ann.add(tf.keras.layers.Dense(units = 1)) # or softmax(Have more than 2 categories) & sigmoid (Yes or No) are used for classfication but this is a regression problem, so we don't keep any activation function."
   ]
  },
  {
   "cell_type": "markdown",
   "metadata": {},
   "source": [
    "# Training the ANN"
   ]
  },
  {
   "cell_type": "markdown",
   "metadata": {},
   "source": [
    "## Compiling the ANN"
   ]
  },
  {
   "cell_type": "code",
   "execution_count": 13,
   "metadata": {},
   "outputs": [],
   "source": [
    "ann.compile(optimizer = 'adam', loss = 'mean_squared_error', metrics = ['accuracy'])"
   ]
  },
  {
   "cell_type": "markdown",
   "metadata": {},
   "source": [
    "## Training the ANN on the Training Set"
   ]
  },
  {
   "cell_type": "code",
   "execution_count": 14,
   "metadata": {},
   "outputs": [
    {
     "output_type": "stream",
     "name": "stdout",
     "text": "Epoch 1/100\n240/240 [==============================] - 0s 982us/step - loss: 13848.6377 - accuracy: 0.0000e+00\nEpoch 2/100\n240/240 [==============================] - 0s 730us/step - loss: 388.9727 - accuracy: 0.0000e+00\nEpoch 3/100\n240/240 [==============================] - 0s 721us/step - loss: 368.5107 - accuracy: 0.0000e+00\nEpoch 4/100\n240/240 [==============================] - 0s 734us/step - loss: 261.8324 - accuracy: 0.0000e+00\nEpoch 5/100\n240/240 [==============================] - 0s 1ms/step - loss: 216.2119 - accuracy: 0.0000e+00\nEpoch 6/100\n240/240 [==============================] - 0s 895us/step - loss: 183.1771 - accuracy: 0.0000e+00\nEpoch 7/100\n240/240 [==============================] - 0s 759us/step - loss: 157.6429 - accuracy: 0.0000e+00\nEpoch 8/100\n240/240 [==============================] - 0s 692us/step - loss: 137.3903 - accuracy: 0.0000e+00\nEpoch 9/100\n240/240 [==============================] - 0s 1ms/step - loss: 121.2400 - accuracy: 0.0000e+00\nEpoch 10/100\n240/240 [==============================] - 0s 1ms/step - loss: 107.6324 - accuracy: 0.0000e+00\nEpoch 11/100\n240/240 [==============================] - 0s 1ms/step - loss: 96.7334 - accuracy: 0.0000e+00\nEpoch 12/100\n240/240 [==============================] - 0s 2ms/step - loss: 87.3102 - accuracy: 0.0000e+00\nEpoch 13/100\n240/240 [==============================] - 0s 2ms/step - loss: 78.8824 - accuracy: 0.0000e+00\nEpoch 14/100\n240/240 [==============================] - 0s 1ms/step - loss: 72.1579 - accuracy: 0.0000e+00\nEpoch 15/100\n240/240 [==============================] - 0s 1ms/step - loss: 66.6605 - accuracy: 0.0000e+00\nEpoch 16/100\n240/240 [==============================] - 0s 835us/step - loss: 62.2221 - accuracy: 0.0000e+00\nEpoch 17/100\n240/240 [==============================] - 0s 769us/step - loss: 58.5382 - accuracy: 0.0000e+00\nEpoch 18/100\n240/240 [==============================] - 0s 731us/step - loss: 54.7461 - accuracy: 0.0000e+00\nEpoch 19/100\n240/240 [==============================] - 0s 806us/step - loss: 52.3105 - accuracy: 0.0000e+00\nEpoch 20/100\n240/240 [==============================] - 0s 886us/step - loss: 49.1061 - accuracy: 0.0000e+00\nEpoch 21/100\n240/240 [==============================] - 0s 919us/step - loss: 47.2562 - accuracy: 0.0000e+00\nEpoch 22/100\n240/240 [==============================] - 0s 795us/step - loss: 44.7410 - accuracy: 0.0000e+00\nEpoch 23/100\n240/240 [==============================] - 0s 766us/step - loss: 42.9556 - accuracy: 0.0000e+00\nEpoch 24/100\n240/240 [==============================] - 0s 811us/step - loss: 40.8025 - accuracy: 0.0000e+00\nEpoch 25/100\n240/240 [==============================] - 0s 1ms/step - loss: 39.4986 - accuracy: 0.0000e+00\nEpoch 26/100\n240/240 [==============================] - 0s 909us/step - loss: 38.0115 - accuracy: 0.0000e+00\nEpoch 27/100\n240/240 [==============================] - 0s 1ms/step - loss: 36.4393 - accuracy: 0.0000e+00\nEpoch 28/100\n240/240 [==============================] - 0s 974us/step - loss: 34.9547 - accuracy: 0.0000e+00\nEpoch 29/100\n240/240 [==============================] - 0s 1ms/step - loss: 33.9546 - accuracy: 0.0000e+00\nEpoch 30/100\n240/240 [==============================] - 0s 1ms/step - loss: 33.1656 - accuracy: 0.0000e+00\nEpoch 31/100\n240/240 [==============================] - 0s 1ms/step - loss: 33.3986 - accuracy: 0.0000e+00\nEpoch 32/100\n240/240 [==============================] - 0s 1ms/step - loss: 31.2097 - accuracy: 0.0000e+00\nEpoch 33/100\n240/240 [==============================] - 0s 895us/step - loss: 30.4945 - accuracy: 0.0000e+00\nEpoch 34/100\n240/240 [==============================] - 0s 927us/step - loss: 30.1080 - accuracy: 0.0000e+00\nEpoch 35/100\n240/240 [==============================] - 0s 803us/step - loss: 29.6460 - accuracy: 0.0000e+00\nEpoch 36/100\n240/240 [==============================] - 0s 764us/step - loss: 29.1265 - accuracy: 0.0000e+00\nEpoch 37/100\n240/240 [==============================] - 0s 1ms/step - loss: 28.8397 - accuracy: 0.0000e+00\nEpoch 38/100\n240/240 [==============================] - 0s 1ms/step - loss: 28.4481 - accuracy: 0.0000e+00\nEpoch 39/100\n240/240 [==============================] - 0s 929us/step - loss: 28.7492 - accuracy: 0.0000e+00\nEpoch 40/100\n240/240 [==============================] - 0s 942us/step - loss: 27.8669 - accuracy: 0.0000e+00\nEpoch 41/100\n240/240 [==============================] - 0s 1ms/step - loss: 27.6644 - accuracy: 0.0000e+00\nEpoch 42/100\n240/240 [==============================] - 0s 973us/step - loss: 27.4581 - accuracy: 0.0000e+00\nEpoch 43/100\n240/240 [==============================] - 0s 965us/step - loss: 27.8679 - accuracy: 0.0000e+00\nEpoch 44/100\n240/240 [==============================] - 0s 1ms/step - loss: 27.0229 - accuracy: 0.0000e+00\nEpoch 45/100\n240/240 [==============================] - 0s 2ms/step - loss: 26.9933 - accuracy: 0.0000e+00\nEpoch 46/100\n240/240 [==============================] - 0s 1ms/step - loss: 27.1562 - accuracy: 0.0000e+00\nEpoch 47/100\n240/240 [==============================] - 0s 832us/step - loss: 26.8757 - accuracy: 0.0000e+00\nEpoch 48/100\n240/240 [==============================] - 0s 807us/step - loss: 27.0625 - accuracy: 0.0000e+00\nEpoch 49/100\n240/240 [==============================] - 0s 932us/step - loss: 26.9658 - accuracy: 0.0000e+00\nEpoch 50/100\n240/240 [==============================] - 0s 945us/step - loss: 26.7593 - accuracy: 0.0000e+00\nEpoch 51/100\n240/240 [==============================] - 0s 923us/step - loss: 28.2911 - accuracy: 0.0000e+00\nEpoch 52/100\n240/240 [==============================] - 0s 1ms/step - loss: 27.3884 - accuracy: 0.0000e+00\nEpoch 53/100\n240/240 [==============================] - 0s 1ms/step - loss: 26.6526 - accuracy: 0.0000e+00\nEpoch 54/100\n240/240 [==============================] - 0s 1ms/step - loss: 27.2156 - accuracy: 0.0000e+00\nEpoch 55/100\n240/240 [==============================] - 0s 1ms/step - loss: 26.6798 - accuracy: 0.0000e+00\nEpoch 56/100\n240/240 [==============================] - 0s 1ms/step - loss: 26.8197 - accuracy: 0.0000e+00\nEpoch 57/100\n240/240 [==============================] - 0s 1ms/step - loss: 27.0505 - accuracy: 0.0000e+00\nEpoch 58/100\n240/240 [==============================] - 0s 1ms/step - loss: 26.9236 - accuracy: 0.0000e+00\nEpoch 59/100\n240/240 [==============================] - 0s 782us/step - loss: 27.0462 - accuracy: 0.0000e+00\nEpoch 60/100\n240/240 [==============================] - 0s 938us/step - loss: 26.8055 - accuracy: 0.0000e+00\nEpoch 61/100\n240/240 [==============================] - 0s 1ms/step - loss: 26.8606 - accuracy: 0.0000e+00\nEpoch 62/100\n240/240 [==============================] - 0s 1ms/step - loss: 26.5701 - accuracy: 0.0000e+00\nEpoch 63/100\n240/240 [==============================] - 0s 985us/step - loss: 26.7656 - accuracy: 0.0000e+00\nEpoch 64/100\n240/240 [==============================] - 0s 1ms/step - loss: 26.5257 - accuracy: 0.0000e+00\nEpoch 65/100\n240/240 [==============================] - 0s 1ms/step - loss: 26.4709 - accuracy: 0.0000e+00\nEpoch 66/100\n240/240 [==============================] - 0s 928us/step - loss: 26.6955 - accuracy: 0.0000e+00\nEpoch 67/100\n240/240 [==============================] - 0s 883us/step - loss: 26.8971 - accuracy: 0.0000e+00\nEpoch 68/100\n240/240 [==============================] - 0s 1ms/step - loss: 26.4379 - accuracy: 0.0000e+00\nEpoch 69/100\n240/240 [==============================] - 0s 1ms/step - loss: 26.6581 - accuracy: 0.0000e+00\nEpoch 70/100\n240/240 [==============================] - 0s 1ms/step - loss: 26.5836 - accuracy: 0.0000e+00\nEpoch 71/100\n240/240 [==============================] - 0s 1ms/step - loss: 26.5427 - accuracy: 0.0000e+00\nEpoch 72/100\n240/240 [==============================] - 0s 1ms/step - loss: 26.5073 - accuracy: 0.0000e+00\nEpoch 73/100\n240/240 [==============================] - 0s 1ms/step - loss: 27.2339 - accuracy: 0.0000e+00\nEpoch 74/100\n240/240 [==============================] - 0s 823us/step - loss: 26.8567 - accuracy: 0.0000e+00\nEpoch 75/100\n240/240 [==============================] - 0s 989us/step - loss: 27.5437 - accuracy: 0.0000e+00\nEpoch 76/100\n240/240 [==============================] - 0s 830us/step - loss: 26.7638 - accuracy: 0.0000e+00\nEpoch 77/100\n240/240 [==============================] - 0s 948us/step - loss: 26.2904 - accuracy: 0.0000e+00\nEpoch 78/100\n240/240 [==============================] - 0s 791us/step - loss: 26.5011 - accuracy: 0.0000e+00\nEpoch 79/100\n240/240 [==============================] - 0s 796us/step - loss: 27.1799 - accuracy: 0.0000e+00\nEpoch 80/100\n240/240 [==============================] - 0s 1ms/step - loss: 26.6857 - accuracy: 0.0000e+00\nEpoch 81/100\n240/240 [==============================] - 0s 877us/step - loss: 26.8567 - accuracy: 0.0000e+00\nEpoch 82/100\n240/240 [==============================] - 0s 898us/step - loss: 26.5722 - accuracy: 0.0000e+00\nEpoch 83/100\n240/240 [==============================] - 0s 804us/step - loss: 27.0355 - accuracy: 0.0000e+00\nEpoch 84/100\n240/240 [==============================] - 0s 2ms/step - loss: 26.8804 - accuracy: 0.0000e+00\nEpoch 85/100\n240/240 [==============================] - 0s 1ms/step - loss: 26.8166 - accuracy: 0.0000e+00\nEpoch 86/100\n240/240 [==============================] - 0s 1ms/step - loss: 27.6224 - accuracy: 0.0000e+00\nEpoch 87/100\n240/240 [==============================] - 0s 1ms/step - loss: 26.7271 - accuracy: 0.0000e+00\nEpoch 88/100\n240/240 [==============================] - 0s 1ms/step - loss: 27.6640 - accuracy: 0.0000e+00\nEpoch 89/100\n240/240 [==============================] - 0s 1ms/step - loss: 26.7521 - accuracy: 0.0000e+00\nEpoch 90/100\n240/240 [==============================] - 0s 1ms/step - loss: 26.8979 - accuracy: 0.0000e+00\nEpoch 91/100\n240/240 [==============================] - 0s 993us/step - loss: 27.0032 - accuracy: 0.0000e+00\nEpoch 92/100\n240/240 [==============================] - 0s 868us/step - loss: 26.4648 - accuracy: 0.0000e+00\nEpoch 93/100\n240/240 [==============================] - 0s 1ms/step - loss: 26.3078 - accuracy: 0.0000e+00\nEpoch 94/100\n240/240 [==============================] - 0s 1ms/step - loss: 26.8288 - accuracy: 0.0000e+00\nEpoch 95/100\n240/240 [==============================] - 0s 1ms/step - loss: 26.3283 - accuracy: 0.0000e+00\nEpoch 96/100\n240/240 [==============================] - 0s 994us/step - loss: 26.6585 - accuracy: 0.0000e+00\nEpoch 97/100\n240/240 [==============================] - 0s 1ms/step - loss: 26.6343 - accuracy: 0.0000e+00\nEpoch 98/100\n240/240 [==============================] - 0s 901us/step - loss: 26.8883 - accuracy: 0.0000e+00\nEpoch 99/100\n240/240 [==============================] - 0s 1ms/step - loss: 26.7976 - accuracy: 0.0000e+00\nEpoch 100/100\n240/240 [==============================] - 0s 946us/step - loss: 26.7976 - accuracy: 0.0000e+00\n"
    },
    {
     "output_type": "execute_result",
     "data": {
      "text/plain": "<tensorflow.python.keras.callbacks.History at 0x13ae87970>"
     },
     "metadata": {},
     "execution_count": 14
    }
   ],
   "source": [
    "ann.fit(X_train, y_train, batch_size = 32, epochs = 100)"
   ]
  },
  {
   "cell_type": "markdown",
   "metadata": {},
   "source": [
    "## Predicting the result of Test set"
   ]
  },
  {
   "cell_type": "code",
   "execution_count": 15,
   "metadata": {},
   "outputs": [
    {
     "output_type": "stream",
     "name": "stdout",
     "text": "Predict | Actual\n[[431.05 431.23]\n [462.13 460.01]\n [465.64 461.14]\n [448.72 445.9 ]\n [459.94 451.29]\n [429.12 432.68]\n [471.51 477.5 ]\n [457.49 459.68]\n [475.06 477.5 ]\n [443.9  444.99]\n [442.06 444.37]\n [441.71 437.04]\n [446.36 442.34]\n [442.08 440.74]\n [437.89 436.55]\n [455.58 460.24]\n [447.78 448.66]\n [437.06 432.94]\n [451.12 452.82]\n [428.2  432.2 ]]\n"
    }
   ],
   "source": [
    "y_pred = ann.predict(X_test)\n",
    "\n",
    "np.set_printoptions(precision=2)\n",
    "print(\"Predict | Actual\")\n",
    "print(np.concatenate((y_pred.reshape(len(y_pred), 1), y_test.reshape(len(y_test), 1)), 1)[0:20])"
   ]
  },
  {
   "cell_type": "code",
   "execution_count": null,
   "metadata": {},
   "outputs": [],
   "source": []
  }
 ],
 "metadata": {
  "language_info": {
   "codemirror_mode": {
    "name": "ipython",
    "version": 3
   },
   "file_extension": ".py",
   "mimetype": "text/x-python",
   "name": "python",
   "nbconvert_exporter": "python",
   "pygments_lexer": "ipython3",
   "version": "3.8.3-final"
  },
  "orig_nbformat": 2,
  "kernelspec": {
   "name": "python38364bita552368636874d84bdc4d8c5896b8460",
   "display_name": "Python 3.8.3 64-bit"
  }
 },
 "nbformat": 4,
 "nbformat_minor": 2
}