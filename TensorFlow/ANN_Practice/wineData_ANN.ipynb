{
 "cells": [
  {
   "cell_type": "markdown",
   "metadata": {},
   "source": [
    "# Importing the libraries"
   ]
  },
  {
   "cell_type": "code",
   "execution_count": 20,
   "metadata": {},
   "outputs": [],
   "source": [
    "import tensorflow as tf \n",
    "import pandas as pd\n",
    "import numpy as np"
   ]
  },
  {
   "cell_type": "markdown",
   "metadata": {},
   "source": [
    "# Data Pre-Processing"
   ]
  },
  {
   "cell_type": "markdown",
   "metadata": {},
   "source": [
    "## Loading the Dataset"
   ]
  },
  {
   "cell_type": "code",
   "execution_count": 21,
   "metadata": {},
   "outputs": [],
   "source": [
    "dataset = pd.read_csv(\"../Dataset/winequality-red.csv\", sep = \";\")"
   ]
  },
  {
   "cell_type": "code",
   "execution_count": 22,
   "metadata": {},
   "outputs": [
    {
     "output_type": "execute_result",
     "data": {
      "text/plain": "   fixed acidity  volatile acidity  citric acid  residual sugar  chlorides  \\\n0            7.4              0.70         0.00             1.9      0.076   \n1            7.8              0.88         0.00             2.6      0.098   \n2            7.8              0.76         0.04             2.3      0.092   \n3           11.2              0.28         0.56             1.9      0.075   \n4            7.4              0.70         0.00             1.9      0.076   \n\n   free sulfur dioxide  total sulfur dioxide  density    pH  sulphates  \\\n0                 11.0                  34.0   0.9978  3.51       0.56   \n1                 25.0                  67.0   0.9968  3.20       0.68   \n2                 15.0                  54.0   0.9970  3.26       0.65   \n3                 17.0                  60.0   0.9980  3.16       0.58   \n4                 11.0                  34.0   0.9978  3.51       0.56   \n\n   alcohol  quality  \n0      9.4        5  \n1      9.8        5  \n2      9.8        5  \n3      9.8        6  \n4      9.4        5  ",
      "text/html": "<div>\n<style scoped>\n    .dataframe tbody tr th:only-of-type {\n        vertical-align: middle;\n    }\n\n    .dataframe tbody tr th {\n        vertical-align: top;\n    }\n\n    .dataframe thead th {\n        text-align: right;\n    }\n</style>\n<table border=\"1\" class=\"dataframe\">\n  <thead>\n    <tr style=\"text-align: right;\">\n      <th></th>\n      <th>fixed acidity</th>\n      <th>volatile acidity</th>\n      <th>citric acid</th>\n      <th>residual sugar</th>\n      <th>chlorides</th>\n      <th>free sulfur dioxide</th>\n      <th>total sulfur dioxide</th>\n      <th>density</th>\n      <th>pH</th>\n      <th>sulphates</th>\n      <th>alcohol</th>\n      <th>quality</th>\n    </tr>\n  </thead>\n  <tbody>\n    <tr>\n      <th>0</th>\n      <td>7.4</td>\n      <td>0.70</td>\n      <td>0.00</td>\n      <td>1.9</td>\n      <td>0.076</td>\n      <td>11.0</td>\n      <td>34.0</td>\n      <td>0.9978</td>\n      <td>3.51</td>\n      <td>0.56</td>\n      <td>9.4</td>\n      <td>5</td>\n    </tr>\n    <tr>\n      <th>1</th>\n      <td>7.8</td>\n      <td>0.88</td>\n      <td>0.00</td>\n      <td>2.6</td>\n      <td>0.098</td>\n      <td>25.0</td>\n      <td>67.0</td>\n      <td>0.9968</td>\n      <td>3.20</td>\n      <td>0.68</td>\n      <td>9.8</td>\n      <td>5</td>\n    </tr>\n    <tr>\n      <th>2</th>\n      <td>7.8</td>\n      <td>0.76</td>\n      <td>0.04</td>\n      <td>2.3</td>\n      <td>0.092</td>\n      <td>15.0</td>\n      <td>54.0</td>\n      <td>0.9970</td>\n      <td>3.26</td>\n      <td>0.65</td>\n      <td>9.8</td>\n      <td>5</td>\n    </tr>\n    <tr>\n      <th>3</th>\n      <td>11.2</td>\n      <td>0.28</td>\n      <td>0.56</td>\n      <td>1.9</td>\n      <td>0.075</td>\n      <td>17.0</td>\n      <td>60.0</td>\n      <td>0.9980</td>\n      <td>3.16</td>\n      <td>0.58</td>\n      <td>9.8</td>\n      <td>6</td>\n    </tr>\n    <tr>\n      <th>4</th>\n      <td>7.4</td>\n      <td>0.70</td>\n      <td>0.00</td>\n      <td>1.9</td>\n      <td>0.076</td>\n      <td>11.0</td>\n      <td>34.0</td>\n      <td>0.9978</td>\n      <td>3.51</td>\n      <td>0.56</td>\n      <td>9.4</td>\n      <td>5</td>\n    </tr>\n  </tbody>\n</table>\n</div>"
     },
     "metadata": {},
     "execution_count": 22
    }
   ],
   "source": [
    "dataset.head()"
   ]
  },
  {
   "cell_type": "code",
   "execution_count": 23,
   "metadata": {},
   "outputs": [
    {
     "output_type": "execute_result",
     "data": {
      "text/plain": "array([5, 6, 7, 4, 8, 3])"
     },
     "metadata": {},
     "execution_count": 23
    }
   ],
   "source": [
    "dataset[\"quality\"].unique()"
   ]
  },
  {
   "cell_type": "code",
   "execution_count": 24,
   "metadata": {},
   "outputs": [],
   "source": [
    "X = dataset.iloc[:, :-1].values\n",
    "y = dataset.iloc[:, -1].values"
   ]
  },
  {
   "cell_type": "code",
   "execution_count": 25,
   "metadata": {},
   "outputs": [
    {
     "output_type": "execute_result",
     "data": {
      "text/plain": "array([[ 7.4  ,  0.7  ,  0.   , ...,  3.51 ,  0.56 ,  9.4  ],\n       [ 7.8  ,  0.88 ,  0.   , ...,  3.2  ,  0.68 ,  9.8  ],\n       [ 7.8  ,  0.76 ,  0.04 , ...,  3.26 ,  0.65 ,  9.8  ],\n       ...,\n       [ 6.3  ,  0.51 ,  0.13 , ...,  3.42 ,  0.75 , 11.   ],\n       [ 5.9  ,  0.645,  0.12 , ...,  3.57 ,  0.71 , 10.2  ],\n       [ 6.   ,  0.31 ,  0.47 , ...,  3.39 ,  0.66 , 11.   ]])"
     },
     "metadata": {},
     "execution_count": 25
    }
   ],
   "source": [
    "X"
   ]
  },
  {
   "cell_type": "code",
   "execution_count": 26,
   "metadata": {},
   "outputs": [
    {
     "output_type": "execute_result",
     "data": {
      "text/plain": "array([5, 5, 5, ..., 6, 5, 6])"
     },
     "metadata": {},
     "execution_count": 26
    }
   ],
   "source": [
    "y"
   ]
  },
  {
   "cell_type": "markdown",
   "metadata": {},
   "source": [
    "## Splitting the dataset into Training and Test Set"
   ]
  },
  {
   "cell_type": "code",
   "execution_count": 28,
   "metadata": {},
   "outputs": [],
   "source": [
    "from sklearn.model_selection import train_test_split\n",
    "\n",
    "X_train, X_test, y_train, y_test = train_test_split(X, y, test_size = 0.2)"
   ]
  },
  {
   "cell_type": "markdown",
   "metadata": {},
   "source": [
    "## Feature Scaling"
   ]
  },
  {
   "cell_type": "code",
   "execution_count": 29,
   "metadata": {},
   "outputs": [],
   "source": [
    "# from sklearn.preprocessing import StandardScaler\n",
    "# sc = StandardScaler()\n",
    "# X_train = sc.fit_transform(X_train)\n",
    "# X_test = sc.transform(X_test)"
   ]
  },
  {
   "cell_type": "markdown",
   "metadata": {},
   "source": [
    "# Building the ANN"
   ]
  },
  {
   "cell_type": "code",
   "execution_count": 30,
   "metadata": {},
   "outputs": [],
   "source": [
    "ann = tf.keras.models.Sequential() # Initializing the ANN\n",
    "\n",
    "ann.add(tf.keras.layers.Dense(units=8, activation='relu')) # First Hidden Layer\n",
    "ann.add(tf.keras.layers.Dense(units=8, activation='relu')) # Second Hidden Layer\n",
    "\n",
    "ann.add(tf.keras.layers.Dense(units = 10, activation = 'softmax'))"
   ]
  },
  {
   "cell_type": "markdown",
   "metadata": {},
   "source": [
    "# Training the ANN"
   ]
  },
  {
   "cell_type": "code",
   "execution_count": 31,
   "metadata": {},
   "outputs": [],
   "source": [
    "ann.compile(optimizer = 'adam', loss = 'sparse_categorical_crossentropy', metrics=['accuracy'])"
   ]
  },
  {
   "cell_type": "code",
   "execution_count": 32,
   "metadata": {},
   "outputs": [
    {
     "output_type": "stream",
     "name": "stdout",
     "text": "Epoch 1/100\n40/40 [==============================] - 0s 2ms/step - loss: 3.5726 - accuracy: 0.3628\nEpoch 2/100\n40/40 [==============================] - 0s 4ms/step - loss: 2.5449 - accuracy: 0.4222\nEpoch 3/100\n40/40 [==============================] - 0s 1ms/step - loss: 2.1638 - accuracy: 0.4402\nEpoch 4/100\n40/40 [==============================] - 0s 1ms/step - loss: 2.0728 - accuracy: 0.4261\nEpoch 5/100\n40/40 [==============================] - 0s 1ms/step - loss: 2.0108 - accuracy: 0.4261\nEpoch 6/100\n40/40 [==============================] - 0s 2ms/step - loss: 1.9571 - accuracy: 0.4261\nEpoch 7/100\n40/40 [==============================] - 0s 2ms/step - loss: 1.9106 - accuracy: 0.4261\nEpoch 8/100\n40/40 [==============================] - 0s 2ms/step - loss: 1.8662 - accuracy: 0.4261\nEpoch 9/100\n40/40 [==============================] - 0s 1ms/step - loss: 1.8262 - accuracy: 0.4261\nEpoch 10/100\n40/40 [==============================] - 0s 1ms/step - loss: 1.7890 - accuracy: 0.4261\nEpoch 11/100\n40/40 [==============================] - 0s 2ms/step - loss: 1.7538 - accuracy: 0.4261\nEpoch 12/100\n40/40 [==============================] - 0s 2ms/step - loss: 1.7237 - accuracy: 0.4261\nEpoch 13/100\n40/40 [==============================] - 0s 2ms/step - loss: 1.6922 - accuracy: 0.4261\nEpoch 14/100\n40/40 [==============================] - 0s 2ms/step - loss: 1.6634 - accuracy: 0.4261\nEpoch 15/100\n40/40 [==============================] - 0s 2ms/step - loss: 1.6351 - accuracy: 0.4261\nEpoch 16/100\n40/40 [==============================] - 0s 1ms/step - loss: 1.6100 - accuracy: 0.4261\nEpoch 17/100\n40/40 [==============================] - 0s 2ms/step - loss: 1.5868 - accuracy: 0.4261\nEpoch 18/100\n40/40 [==============================] - 0s 1ms/step - loss: 1.5619 - accuracy: 0.4261\nEpoch 19/100\n40/40 [==============================] - 0s 1ms/step - loss: 1.5427 - accuracy: 0.4504\nEpoch 20/100\n40/40 [==============================] - 0s 1ms/step - loss: 1.5207 - accuracy: 0.4988\nEpoch 21/100\n40/40 [==============================] - 0s 1ms/step - loss: 1.5013 - accuracy: 0.4894\nEpoch 22/100\n40/40 [==============================] - 0s 951us/step - loss: 1.4855 - accuracy: 0.4832\nEpoch 23/100\n40/40 [==============================] - 0s 1ms/step - loss: 1.4662 - accuracy: 0.4934\nEpoch 24/100\n40/40 [==============================] - 0s 1ms/step - loss: 1.4500 - accuracy: 0.4855\nEpoch 25/100\n40/40 [==============================] - 0s 1ms/step - loss: 1.4359 - accuracy: 0.4902\nEpoch 26/100\n40/40 [==============================] - 0s 2ms/step - loss: 1.4203 - accuracy: 0.4879\nEpoch 27/100\n40/40 [==============================] - 0s 2ms/step - loss: 1.4070 - accuracy: 0.4848\nEpoch 28/100\n40/40 [==============================] - 0s 2ms/step - loss: 1.3925 - accuracy: 0.4949\nEpoch 29/100\n40/40 [==============================] - 0s 1ms/step - loss: 1.3789 - accuracy: 0.4871\nEpoch 30/100\n40/40 [==============================] - 0s 2ms/step - loss: 1.3673 - accuracy: 0.4894\nEpoch 31/100\n40/40 [==============================] - 0s 2ms/step - loss: 1.3641 - accuracy: 0.4941\nEpoch 32/100\n40/40 [==============================] - 0s 2ms/step - loss: 1.3451 - accuracy: 0.4934\nEpoch 33/100\n40/40 [==============================] - 0s 2ms/step - loss: 1.3317 - accuracy: 0.5020\nEpoch 34/100\n40/40 [==============================] - 0s 1ms/step - loss: 1.3262 - accuracy: 0.4918\nEpoch 35/100\n40/40 [==============================] - 0s 1ms/step - loss: 1.3186 - accuracy: 0.4824\nEpoch 36/100\n40/40 [==============================] - 0s 2ms/step - loss: 1.3061 - accuracy: 0.4910\nEpoch 37/100\n40/40 [==============================] - 0s 1ms/step - loss: 1.2964 - accuracy: 0.4879\nEpoch 38/100\n40/40 [==============================] - 0s 1ms/step - loss: 1.2871 - accuracy: 0.4832\nEpoch 39/100\n40/40 [==============================] - 0s 1ms/step - loss: 1.2805 - accuracy: 0.4894\nEpoch 40/100\n40/40 [==============================] - 0s 1ms/step - loss: 1.2746 - accuracy: 0.4808\nEpoch 41/100\n40/40 [==============================] - 0s 1ms/step - loss: 1.2631 - accuracy: 0.4808\nEpoch 42/100\n40/40 [==============================] - 0s 2ms/step - loss: 1.2556 - accuracy: 0.4746\nEpoch 43/100\n40/40 [==============================] - 0s 2ms/step - loss: 1.2430 - accuracy: 0.4769\nEpoch 44/100\n40/40 [==============================] - 0s 1ms/step - loss: 1.2369 - accuracy: 0.4801\nEpoch 45/100\n40/40 [==============================] - 0s 2ms/step - loss: 1.2294 - accuracy: 0.4785\nEpoch 46/100\n40/40 [==============================] - 0s 3ms/step - loss: 1.2229 - accuracy: 0.4808\nEpoch 47/100\n40/40 [==============================] - 0s 2ms/step - loss: 1.2171 - accuracy: 0.4746\nEpoch 48/100\n40/40 [==============================] - 0s 2ms/step - loss: 1.2112 - accuracy: 0.4855\nEpoch 49/100\n40/40 [==============================] - 0s 1ms/step - loss: 1.2056 - accuracy: 0.4777\nEpoch 50/100\n40/40 [==============================] - 0s 1ms/step - loss: 1.1983 - accuracy: 0.4808\nEpoch 51/100\n40/40 [==============================] - 0s 1ms/step - loss: 1.1931 - accuracy: 0.4808\nEpoch 52/100\n40/40 [==============================] - 0s 3ms/step - loss: 1.1911 - accuracy: 0.4918\nEpoch 53/100\n40/40 [==============================] - 0s 5ms/step - loss: 1.1843 - accuracy: 0.4879\nEpoch 54/100\n40/40 [==============================] - 0s 3ms/step - loss: 1.1825 - accuracy: 0.5004\nEpoch 55/100\n29/40 [====================>.........] - ETA: 0s - loss: 1.1742 - accuracy: 0.4840/40 [==============================] - 0s 2ms/step - loss: 1.1768 - accuracy: 0.4941\nEpoch 56/100\n40/40 [==============================] - 0s 3ms/step - loss: 1.1732 - accuracy: 0.4840\nEpoch 57/100\n40/40 [==============================] - 0s 3ms/step - loss: 1.1694 - accuracy: 0.4949\nEpoch 58/100\n40/40 [==============================] - 0s 2ms/step - loss: 1.1661 - accuracy: 0.4949\nEpoch 59/100\n40/40 [==============================] - 0s 2ms/step - loss: 1.1639 - accuracy: 0.4949\nEpoch 60/100\n40/40 [==============================] - 0s 2ms/step - loss: 1.1604 - accuracy: 0.4973\nEpoch 61/100\n40/40 [==============================] - 0s 838us/step - loss: 1.1582 - accuracy: 0.5020\nEpoch 62/100\n40/40 [==============================] - 0s 996us/step - loss: 1.1562 - accuracy: 0.4980\nEpoch 63/100\n40/40 [==============================] - 0s 2ms/step - loss: 1.1541 - accuracy: 0.4957\nEpoch 64/100\n40/40 [==============================] - 0s 2ms/step - loss: 1.1521 - accuracy: 0.5012\nEpoch 65/100\n40/40 [==============================] - 0s 1ms/step - loss: 1.1485 - accuracy: 0.5004\nEpoch 66/100\n40/40 [==============================] - 0s 2ms/step - loss: 1.1486 - accuracy: 0.4965\nEpoch 67/100\n40/40 [==============================] - 0s 2ms/step - loss: 1.1466 - accuracy: 0.4996\nEpoch 68/100\n40/40 [==============================] - 0s 2ms/step - loss: 1.1466 - accuracy: 0.5020\nEpoch 69/100\n40/40 [==============================] - 0s 1ms/step - loss: 1.1436 - accuracy: 0.5066\nEpoch 70/100\n40/40 [==============================] - 0s 1ms/step - loss: 1.1431 - accuracy: 0.5035\nEpoch 71/100\n40/40 [==============================] - 0s 2ms/step - loss: 1.1417 - accuracy: 0.4996\nEpoch 72/100\n40/40 [==============================] - 0s 3ms/step - loss: 1.1377 - accuracy: 0.4973\nEpoch 73/100\n40/40 [==============================] - 0s 1ms/step - loss: 1.1374 - accuracy: 0.4996\nEpoch 74/100\n40/40 [==============================] - 0s 1ms/step - loss: 1.1388 - accuracy: 0.5020\nEpoch 75/100\n40/40 [==============================] - 0s 2ms/step - loss: 1.1327 - accuracy: 0.5051\nEpoch 76/100\n40/40 [==============================] - 0s 1ms/step - loss: 1.1319 - accuracy: 0.5027\nEpoch 77/100\n40/40 [==============================] - 0s 2ms/step - loss: 1.1284 - accuracy: 0.5043\nEpoch 78/100\n40/40 [==============================] - 0s 1ms/step - loss: 1.1291 - accuracy: 0.5137\nEpoch 79/100\n40/40 [==============================] - 0s 1ms/step - loss: 1.1294 - accuracy: 0.5027\nEpoch 80/100\n40/40 [==============================] - 0s 1ms/step - loss: 1.1265 - accuracy: 0.5027\nEpoch 81/100\n40/40 [==============================] - 0s 1ms/step - loss: 1.1266 - accuracy: 0.5051\nEpoch 82/100\n40/40 [==============================] - 0s 2ms/step - loss: 1.1236 - accuracy: 0.4973\nEpoch 83/100\n40/40 [==============================] - 0s 1ms/step - loss: 1.1248 - accuracy: 0.5020\nEpoch 84/100\n40/40 [==============================] - 0s 1ms/step - loss: 1.1218 - accuracy: 0.5035\nEpoch 85/100\n40/40 [==============================] - 0s 859us/step - loss: 1.1195 - accuracy: 0.5121\nEpoch 86/100\n40/40 [==============================] - 0s 1ms/step - loss: 1.1186 - accuracy: 0.5113\nEpoch 87/100\n40/40 [==============================] - 0s 1ms/step - loss: 1.1183 - accuracy: 0.5113\nEpoch 88/100\n40/40 [==============================] - 0s 2ms/step - loss: 1.1147 - accuracy: 0.5066\nEpoch 89/100\n40/40 [==============================] - 0s 1ms/step - loss: 1.1140 - accuracy: 0.5168\nEpoch 90/100\n40/40 [==============================] - 0s 805us/step - loss: 1.1134 - accuracy: 0.5121\nEpoch 91/100\n40/40 [==============================] - 0s 818us/step - loss: 1.1114 - accuracy: 0.5082\nEpoch 92/100\n40/40 [==============================] - 0s 2ms/step - loss: 1.1089 - accuracy: 0.5199\nEpoch 93/100\n40/40 [==============================] - 0s 935us/step - loss: 1.1092 - accuracy: 0.5043\nEpoch 94/100\n40/40 [==============================] - 0s 2ms/step - loss: 1.1106 - accuracy: 0.5051\nEpoch 95/100\n40/40 [==============================] - 0s 2ms/step - loss: 1.1070 - accuracy: 0.5106\nEpoch 96/100\n40/40 [==============================] - 0s 982us/step - loss: 1.1063 - accuracy: 0.5152\nEpoch 97/100\n40/40 [==============================] - 0s 1ms/step - loss: 1.1056 - accuracy: 0.5223\nEpoch 98/100\n40/40 [==============================] - 0s 985us/step - loss: 1.1030 - accuracy: 0.5160\nEpoch 99/100\n40/40 [==============================] - 0s 2ms/step - loss: 1.1002 - accuracy: 0.5121\nEpoch 100/100\n40/40 [==============================] - 0s 2ms/step - loss: 1.0995 - accuracy: 0.5168\n"
    },
    {
     "output_type": "execute_result",
     "data": {
      "text/plain": "<tensorflow.python.keras.callbacks.History at 0x1367481c0>"
     },
     "metadata": {},
     "execution_count": 32
    }
   ],
   "source": [
    "ann.fit(X_train, y_train, epochs = 100)"
   ]
  },
  {
   "cell_type": "markdown",
   "metadata": {},
   "source": [
    "# Evaluating Predictions and testing accuracy"
   ]
  },
  {
   "cell_type": "code",
   "execution_count": 33,
   "metadata": {},
   "outputs": [
    {
     "output_type": "stream",
     "name": "stdout",
     "text": "10/10 [==============================] - 0s 834us/step - loss: 1.1682 - accuracy: 0.5125\nTest accuracy: 0.512499988079071\n"
    }
   ],
   "source": [
    "test_loss, test_acc = ann.evaluate(X_test,  y_test, verbose=1) \n",
    "\n",
    "print('Test accuracy:', test_acc)"
   ]
  },
  {
   "cell_type": "code",
   "execution_count": 34,
   "metadata": {},
   "outputs": [],
   "source": [
    "predictions = ann.predict(X_test)"
   ]
  },
  {
   "cell_type": "code",
   "execution_count": 35,
   "metadata": {},
   "outputs": [
    {
     "output_type": "execute_result",
     "data": {
      "text/plain": "array([[1.0727660e-02, 6.1974162e-03, 4.6111410e-03, ..., 1.7230010e-01,\n        1.8673278e-02, 6.2541626e-03],\n       [8.6461892e-03, 3.0785690e-03, 1.7279472e-03, ..., 1.3962480e-01,\n        1.3133793e-02, 3.1336783e-03],\n       [7.1405596e-03, 1.7463968e-03, 7.8763050e-04, ..., 1.1579761e-01,\n        9.7587416e-03, 1.7896025e-03],\n       ...,\n       [9.8615400e-03, 4.6700244e-03, 3.0948138e-03, ..., 1.5874259e-01,\n        1.6231718e-02, 4.7295135e-03],\n       [1.8463266e-03, 5.8091620e-05, 7.9355768e-06, ..., 3.0638305e-02,\n        1.4168784e-03, 6.1745457e-05],\n       [5.1562479e-03, 7.1464526e-04, 2.3153226e-04, ..., 8.4152594e-02,\n        6.0059396e-03, 7.3977816e-04]], dtype=float32)"
     },
     "metadata": {},
     "execution_count": 35
    }
   ],
   "source": [
    "predictions"
   ]
  },
  {
   "cell_type": "code",
   "execution_count": 36,
   "metadata": {},
   "outputs": [],
   "source": [
    "y_pred = []\n",
    "\n",
    "for i in range(0,len(predictions)):\n",
    "    y_pred.append(np.argmax(predictions[i]))"
   ]
  },
  {
   "cell_type": "code",
   "execution_count": 37,
   "metadata": {},
   "outputs": [
    {
     "output_type": "execute_result",
     "data": {
      "text/plain": "[6, 6, 6, 6, 6, 5, 6, 5, 6, 5]"
     },
     "metadata": {},
     "execution_count": 37
    }
   ],
   "source": [
    "y_pred[0:10]"
   ]
  },
  {
   "cell_type": "code",
   "execution_count": 39,
   "metadata": {},
   "outputs": [
    {
     "output_type": "execute_result",
     "data": {
      "text/plain": "array([6, 7, 6, 5, 6, 4, 6, 6, 6, 5])"
     },
     "metadata": {},
     "execution_count": 39
    }
   ],
   "source": [
    "y_test[0:10]"
   ]
  }
 ],
 "metadata": {
  "language_info": {
   "codemirror_mode": {
    "name": "ipython",
    "version": 3
   },
   "file_extension": ".py",
   "mimetype": "text/x-python",
   "name": "python",
   "nbconvert_exporter": "python",
   "pygments_lexer": "ipython3",
   "version": "3.8.3-final"
  },
  "orig_nbformat": 2,
  "kernelspec": {
   "name": "python38364bita552368636874d84bdc4d8c5896b8460",
   "display_name": "Python 3.8.3 64-bit"
  }
 },
 "nbformat": 4,
 "nbformat_minor": 2
}