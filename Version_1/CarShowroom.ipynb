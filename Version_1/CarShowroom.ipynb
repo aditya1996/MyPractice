{
 "cells": [
  {
   "cell_type": "markdown",
   "metadata": {},
   "source": [
    "# Make your own car warehouse and add you favourite cars to it. "
   ]
  },
  {
   "cell_type": "markdown",
   "metadata": {},
   "source": [
    "## Also perdform various analytics to check the status of warehouse and your cars"
   ]
  },
  {
   "cell_type": "markdown",
   "metadata": {},
   "source": [
    "To create your own showroom, make a instance of object 'MyShowroom' and name your showroom"
   ]
  },
  {
   "cell_type": "code",
   "execution_count": 12,
   "metadata": {},
   "outputs": [
    {
     "output_type": "stream",
     "name": "stdout",
     "text": "Welcome to this WareHouse Routing System! \nWould you like to create your own Warehouse ?\nExiting Program...\n"
    }
   ],
   "source": [
    "import pickle\n",
    "\n",
    "class MyWarehouse():\n",
    "\n",
    "    allowedtype = \"4 Wheelers\"\n",
    "\n",
    "    def __init__(self,name,sname,loc,capacity,carls=[],no=1):\n",
    "\n",
    "        self.name = name\n",
    "        self.sname = sname\n",
    "        self.loc = loc\n",
    "        self.capacity = capacity\n",
    "        self.carls = carls\n",
    "        self.no = no\n",
    "        print(f\"Your warehouse by the name of {sname} has been created\")\n",
    "\n",
    "    def __str__(self):\n",
    "\n",
    "        return f'{self.sname} warehouse is owned by {self.name} located in {self.loc}'+'\\n'+f'It has a capacity of {self.capacity} cars and currently we have {len(self.carls)} cars'+'\\n'+ str(self.carls)\n",
    "\n",
    "    def addcar(self,name,brand,kmsdone,mileage):\n",
    "\n",
    "        self.carls.append([name,brand,kmsdone,mileage])\n",
    "\n",
    "        with open('carlist.data', 'wb') as filehandle:\n",
    "            pickle.dump(self.carls, filehandle)   # store the data as binary data stream\n",
    "        print(f'{name} has been added to the Showroom.')\n",
    "\n",
    "    def removecar(self,name):\n",
    "\n",
    "        l = len(self.carls)\n",
    "\n",
    "        carls_test = []\n",
    "\n",
    "        with open('carlist.data', 'rb') as filehandle:\n",
    "            carls_test = pickle.load(filehandle)\n",
    "\n",
    "        try:\n",
    "            for i in range(0,l):\n",
    "                for j in range(0,5):\n",
    "                    if carls_test[i][j] == name:\n",
    "                        carls_test.pop(i)\n",
    "        except IndexError:\n",
    "            pass\n",
    "\n",
    "        with open('carlist.data', 'wb') as filehandle:\n",
    "            pickle.dump(carls_test, filehandle)\n",
    "\n",
    "        try:\n",
    "            for i in range(0,l):\n",
    "                for j in range(0,5):\n",
    "                    if self.carls[i][j] == name:\n",
    "                        self.carls.pop(i)\n",
    "        except IndexError:\n",
    "            pass\n",
    "\n",
    "        with open('carlist.data', 'wb') as filehandle:\n",
    "            pickle.dump(carls_test, filehandle)\n",
    "\n",
    "        print(f'Your car {name} has been removed from database')\n",
    "\n",
    "\n",
    "\n",
    "    def bestmileage(self):\n",
    "\n",
    "        list = []\n",
    "        l = len(self.carls)\n",
    "\n",
    "        for i in range(0,l):\n",
    "                list.append(self.carls[i][3])\n",
    "\n",
    "        for i in range(0,l):\n",
    "                    if self.carls[i][3] == max(list):\n",
    "                        return f'The car having best mileage is {self.carls[i][0]} with mileage of {max(list)} km/l'\n",
    "    \n",
    "    def loadcars(self):\n",
    "\n",
    "        with open('carlist.data', 'rb') as filehandle:\n",
    "            self.carls = pickle.load(filehandle) # read the data as binary data stream\n",
    "\n",
    "        print(f'The list of cars have been loaded! and below is your collection:')\n",
    "        print(self.carls)\n",
    "\n",
    "def program():\n",
    "\n",
    "    nwahr = input(\"Please enter your name!!\")\n",
    "    snwahr = input(\"Please enter the name of your Warehouse!!\")\n",
    "    lwahr = input(\"Please enter the location of your Warehouse!!\")\n",
    "    cwahr = int(input(\"Please enter the capacity of your Warehouse!!\"))\n",
    "\n",
    "    ware = MyWarehouse(nwahr,snwahr,lwahr,cwahr)\n",
    "\n",
    "    while True:\n",
    "        print(f\"Your warehouse {ware.sname} is up and running!! Owned by {ware.name} and having capacity of {ware.capacity} cars\")\n",
    "        print(\"1. Enter 'A' to add a car\")\n",
    "        print(\"2. Enter 'L' to load previous cars\")\n",
    "        print(\"3. Enter 'P' to preview your current Warehouse\")\n",
    "        print(\"3. Enter 'S' to see your cars\")\n",
    "        print(\"4. Enter 'R' to remove a Car from your Warehouse\")\n",
    "        print(\"5. Enter 'B' to see which car has best mileage\")\n",
    "        print(\"6. Enter 'X' to exit this Warehouse\")\n",
    "\n",
    "        inpi = input(\"Please enter your choice: \")\n",
    "\n",
    "        if inpi[0].lower() == 'a':\n",
    "\n",
    "            n = input(\"Please enter the name of the car\")\n",
    "            b = input(\"Please enter the brand of the car\")\n",
    "            kms = int(input(\"Please enter the number of kms done\"))\n",
    "            mil = int(input(\"Please enter the mileage of this car\"))\n",
    "            ware.addcar(n,b,kms,mil)\n",
    "            print(f\"Your car {n} by {b} has been added to the Warehouse\")\n",
    "\n",
    "        elif inpi[0].lower() == 's':\n",
    "\n",
    "            print(\"Here is a list of cars you own right now!\")\n",
    "            for i in range(0,len(ware.carls)):\n",
    "                print(ware.carls[i])\n",
    "\n",
    "        elif inpi[0].lower() == 'l':\n",
    "\n",
    "            ware.loadcars()\n",
    "            print(\"Here is a list of cars we have loaded!\")\n",
    "\n",
    "        elif inpi[0].lower() == 'x':\n",
    "            print(\"You have quit the Warehouse Operations\")\n",
    "            break\n",
    "\n",
    "        elif inpi[0].lower() == 'x':\n",
    "            print(\"You have quit the Warehouse Operations\")\n",
    "            break\n",
    "\n",
    "\n",
    "while True:\n",
    "    print(\"Welcome to this WareHouse Routing System! \\nWould you like to create your own Warehouse ?\")\n",
    "    inp = input(\"Enter 'y' to make a Warehouse or 'n' to exit this program\")\n",
    "    \n",
    "    if inp[0].lower() == 'y':\n",
    "        program()\n",
    "    elif inp[0].lower() == 'n':\n",
    "        print(\"Exiting Program...\")\n",
    "        break\n",
    "    else:\n",
    "        print(\"Sry I did not understand that! Please enter a valid choice...\")\n"
   ]
  },
  {
   "cell_type": "code",
   "execution_count": 2,
   "metadata": {},
   "outputs": [
    {
     "output_type": "stream",
     "name": "stdout",
     "text": "Your warehouse by the name of Libra has been created\n"
    }
   ],
   "source": [
    "libra = MyWarehouse('Aditya','Libra','Lucknow',50)"
   ]
  },
  {
   "cell_type": "code",
   "execution_count": 6,
   "metadata": {},
   "outputs": [
    {
     "output_type": "stream",
     "name": "stdout",
     "text": "C Class has been added to the Showroom.\ni20 has been added to the Showroom.\nCity has been added to the Showroom.\n3 Series has been added to the Showroom.\nAtom has been added to the Showroom.\nEnzo has been added to the Showroom.\n"
    }
   ],
   "source": [
    "libra.addcar('C Class', 'Mercedes', 1000, 5)\n",
    "libra.addcar('i20', 'Hyundai', 14000, 17)\n",
    "libra.addcar('City', 'Honda', 100000, 11)\n",
    "libra.addcar('3 Series', 'BMW', 0, 7)\n",
    "libra.addcar('Atom', 'Areil', 0, 7)\n",
    "libra.addcar('Enzo', 'Ferrari', 1500, 3)"
   ]
  },
  {
   "cell_type": "code",
   "execution_count": 4,
   "metadata": {},
   "outputs": [
    {
     "output_type": "error",
     "ename": "EOFError",
     "evalue": "Ran out of input",
     "traceback": [
      "\u001b[0;31m---------------------------------------------------------------------------\u001b[0m",
      "\u001b[0;31mEOFError\u001b[0m                                  Traceback (most recent call last)",
      "\u001b[0;32m<ipython-input-4-1cace52810a3>\u001b[0m in \u001b[0;36m<module>\u001b[0;34m\u001b[0m\n\u001b[0;32m----> 1\u001b[0;31m \u001b[0mlibra\u001b[0m\u001b[0;34m.\u001b[0m\u001b[0mloadcars\u001b[0m\u001b[0;34m(\u001b[0m\u001b[0;34m)\u001b[0m\u001b[0;34m\u001b[0m\u001b[0;34m\u001b[0m\u001b[0m\n\u001b[0m",
      "\u001b[0;32m<ipython-input-1-7477adb2b1fc>\u001b[0m in \u001b[0;36mloadcars\u001b[0;34m(self)\u001b[0m\n\u001b[1;32m     77\u001b[0m \u001b[0;34m\u001b[0m\u001b[0m\n\u001b[1;32m     78\u001b[0m         \u001b[0;32mwith\u001b[0m \u001b[0mopen\u001b[0m\u001b[0;34m(\u001b[0m\u001b[0;34m'carlist.data'\u001b[0m\u001b[0;34m,\u001b[0m \u001b[0;34m'rb'\u001b[0m\u001b[0;34m)\u001b[0m \u001b[0;32mas\u001b[0m \u001b[0mfilehandle\u001b[0m\u001b[0;34m:\u001b[0m\u001b[0;34m\u001b[0m\u001b[0;34m\u001b[0m\u001b[0m\n\u001b[0;32m---> 79\u001b[0;31m             \u001b[0mself\u001b[0m\u001b[0;34m.\u001b[0m\u001b[0mcarls\u001b[0m \u001b[0;34m=\u001b[0m \u001b[0mpickle\u001b[0m\u001b[0;34m.\u001b[0m\u001b[0mload\u001b[0m\u001b[0;34m(\u001b[0m\u001b[0mfilehandle\u001b[0m\u001b[0;34m)\u001b[0m \u001b[0;31m# read the data as binary data stream\u001b[0m\u001b[0;34m\u001b[0m\u001b[0;34m\u001b[0m\u001b[0m\n\u001b[0m\u001b[1;32m     80\u001b[0m \u001b[0;34m\u001b[0m\u001b[0m\n\u001b[1;32m     81\u001b[0m         \u001b[0mprint\u001b[0m\u001b[0;34m(\u001b[0m\u001b[0;34mf'The list of cars have been loaded! and below is your collection:'\u001b[0m\u001b[0;34m)\u001b[0m\u001b[0;34m\u001b[0m\u001b[0;34m\u001b[0m\u001b[0m\n",
      "\u001b[0;31mEOFError\u001b[0m: Ran out of input"
     ]
    }
   ],
   "source": [
    "libra.loadcars()"
   ]
  },
  {
   "cell_type": "code",
   "execution_count": 7,
   "metadata": {},
   "outputs": [
    {
     "output_type": "execute_result",
     "data": {
      "text/plain": "[['WRV', 'Honda', 10000, 15],\n ['C Class', 'Mercedes', 1000, 5],\n ['i20', 'Hyundai', 14000, 17],\n ['City', 'Honda', 100000, 11],\n ['3 Series', 'BMW', 0, 7],\n ['Atom', 'Areil', 0, 7],\n ['Enzo', 'Ferrari', 1500, 3]]"
     },
     "metadata": {},
     "execution_count": 7
    }
   ],
   "source": [
    "libra.carls"
   ]
  },
  {
   "cell_type": "code",
   "execution_count": 8,
   "metadata": {},
   "outputs": [
    {
     "output_type": "execute_result",
     "data": {
      "text/plain": "'The car having best mileage is i20 with mileage of 17 km/l'"
     },
     "metadata": {},
     "execution_count": 8
    }
   ],
   "source": [
    "libra.bestmileage()"
   ]
  },
  {
   "cell_type": "code",
   "execution_count": 29,
   "metadata": {},
   "outputs": [
    {
     "output_type": "error",
     "ename": "NameError",
     "evalue": "name 'carls' is not defined",
     "traceback": [
      "\u001b[0;31m---------------------------------------------------------------------------\u001b[0m",
      "\u001b[0;31mNameError\u001b[0m                                 Traceback (most recent call last)",
      "\u001b[0;32m<ipython-input-29-39ebb4ef4300>\u001b[0m in \u001b[0;36m<module>\u001b[0;34m\u001b[0m\n\u001b[0;32m----> 1\u001b[0;31m \u001b[0mlibra\u001b[0m\u001b[0;34m.\u001b[0m\u001b[0mremovecar\u001b[0m\u001b[0;34m(\u001b[0m\u001b[0;34m'Atom'\u001b[0m\u001b[0;34m)\u001b[0m\u001b[0;34m\u001b[0m\u001b[0;34m\u001b[0m\u001b[0m\n\u001b[0m",
      "\u001b[0;32m<ipython-input-24-57b1365fa755>\u001b[0m in \u001b[0;36mremovecar\u001b[0;34m(self, name)\u001b[0m\n\u001b[1;32m     40\u001b[0m \u001b[0;34m\u001b[0m\u001b[0m\n\u001b[1;32m     41\u001b[0m         \u001b[0;32mwith\u001b[0m \u001b[0mopen\u001b[0m\u001b[0;34m(\u001b[0m\u001b[0;34m'carlist.data'\u001b[0m\u001b[0;34m,\u001b[0m \u001b[0;34m'wb'\u001b[0m\u001b[0;34m)\u001b[0m \u001b[0;32mas\u001b[0m \u001b[0mfilehandle\u001b[0m\u001b[0;34m:\u001b[0m\u001b[0;34m\u001b[0m\u001b[0;34m\u001b[0m\u001b[0m\n\u001b[0;32m---> 42\u001b[0;31m             \u001b[0mpickle\u001b[0m\u001b[0;34m.\u001b[0m\u001b[0mdump\u001b[0m\u001b[0;34m(\u001b[0m\u001b[0mcarls\u001b[0m\u001b[0;34m,\u001b[0m \u001b[0mfilehandle\u001b[0m\u001b[0;34m)\u001b[0m\u001b[0;34m\u001b[0m\u001b[0;34m\u001b[0m\u001b[0m\n\u001b[0m\u001b[1;32m     43\u001b[0m \u001b[0;34m\u001b[0m\u001b[0m\n\u001b[1;32m     44\u001b[0m         \u001b[0mprint\u001b[0m\u001b[0;34m(\u001b[0m\u001b[0;34mf'Your car {name} has been removed from database'\u001b[0m\u001b[0;34m)\u001b[0m\u001b[0;34m\u001b[0m\u001b[0;34m\u001b[0m\u001b[0m\n",
      "\u001b[0;31mNameError\u001b[0m: name 'carls' is not defined"
     ]
    }
   ],
   "source": [
    "libra.removecar('Atom')"
   ]
  },
  {
   "cell_type": "code",
   "execution_count": 2,
   "metadata": {},
   "outputs": [
    {
     "output_type": "stream",
     "name": "stdout",
     "text": "\n\nDatabase accessed!!\n\n\n"
    },
    {
     "output_type": "error",
     "ename": "OperationalError",
     "evalue": "no such table: cars",
     "traceback": [
      "\u001b[0;31m---------------------------------------------------------------------------\u001b[0m",
      "\u001b[0;31mOperationalError\u001b[0m                          Traceback (most recent call last)",
      "\u001b[0;32m<ipython-input-2-9e367bd20604>\u001b[0m in \u001b[0;36m<module>\u001b[0;34m\u001b[0m\n\u001b[1;32m      5\u001b[0m \u001b[0mc\u001b[0m \u001b[0;34m=\u001b[0m \u001b[0mconn\u001b[0m\u001b[0;34m.\u001b[0m\u001b[0mcursor\u001b[0m\u001b[0;34m(\u001b[0m\u001b[0;34m)\u001b[0m\u001b[0;34m\u001b[0m\u001b[0;34m\u001b[0m\u001b[0m\n\u001b[1;32m      6\u001b[0m \u001b[0;34m\u001b[0m\u001b[0m\n\u001b[0;32m----> 7\u001b[0;31m \u001b[0ml\u001b[0m \u001b[0;34m=\u001b[0m \u001b[0mlist\u001b[0m\u001b[0;34m(\u001b[0m\u001b[0mc\u001b[0m\u001b[0;34m.\u001b[0m\u001b[0mexecute\u001b[0m\u001b[0;34m(\u001b[0m\u001b[0;34m\" SELECT * FROM cars\"\u001b[0m\u001b[0;34m)\u001b[0m\u001b[0;34m)\u001b[0m\u001b[0;34m\u001b[0m\u001b[0;34m\u001b[0m\u001b[0m\n\u001b[0m\u001b[1;32m      8\u001b[0m \u001b[0;34m\u001b[0m\u001b[0m\n\u001b[1;32m      9\u001b[0m \u001b[0mprint\u001b[0m\u001b[0;34m(\u001b[0m\u001b[0ml\u001b[0m\u001b[0;34m)\u001b[0m\u001b[0;34m\u001b[0m\u001b[0;34m\u001b[0m\u001b[0m\n",
      "\u001b[0;31mOperationalError\u001b[0m: no such table: cars"
     ]
    }
   ],
   "source": [
    "import sqlite3\n",
    "conn = sqlite3.connect('cars.db')\n",
    "print(\"\\n\\nDatabase accessed!!\\n\\n\")\n",
    "\n",
    "c = conn.cursor()\n",
    "\n",
    "l = list(c.execute(\" SELECT * FROM Cars\"))\n",
    "\n",
    "print(l)"
   ]
  },
  {
   "cell_type": "code",
   "execution_count": null,
   "metadata": {},
   "outputs": [],
   "source": []
  }
 ],
 "metadata": {
  "language_info": {
   "codemirror_mode": {
    "name": "ipython",
    "version": 3
   },
   "file_extension": ".py",
   "mimetype": "text/x-python",
   "name": "python",
   "nbconvert_exporter": "python",
   "pygments_lexer": "ipython3",
   "version": "3.8.3-final"
  },
  "orig_nbformat": 2,
  "kernelspec": {
   "name": "python38364bit054245dcf21e4c25b7b8d8cc669b6593",
   "display_name": "Python 3.8.3 64-bit"
  }
 },
 "nbformat": 4,
 "nbformat_minor": 2
}