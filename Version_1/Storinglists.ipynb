{
 "cells": [
  {
   "cell_type": "code",
   "execution_count": 1,
   "metadata": {},
   "outputs": [],
   "source": [
    "cars_list = [[[1, 'i10', 'Hyundai', 146000, 19],\n",
    " [2, 'WRV', 'Honda', 10000, 15],\n",
    " [3, 'C Class', 'Mercedes', 1000, 5],\n",
    " [4, 'i20', 'Hyundai', 14000, 17],\n",
    " [5, 'City', 'Honda', 100000, 11],\n",
    " [6, '3 Series', 'BMW', 0, 7]]]"
   ]
  },
  {
   "cell_type": "code",
   "execution_count": null,
   "metadata": {},
   "outputs": [],
   "source": []
  }
 ],
 "metadata": {
  "language_info": {
   "codemirror_mode": {
    "name": "ipython",
    "version": 3
   },
   "file_extension": ".py",
   "mimetype": "text/x-python",
   "name": "python",
   "nbconvert_exporter": "python",
   "pygments_lexer": "ipython3",
   "version": "3.8.3-final"
  },
  "orig_nbformat": 2,
  "kernelspec": {
   "name": "python38364bita552368636874d84bdc4d8c5896b8460",
   "display_name": "Python 3.8.3 64-bit"
  }
 },
 "nbformat": 4,
 "nbformat_minor": 2
}