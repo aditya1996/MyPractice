{
 "cells": [
  {
   "cell_type": "markdown",
   "metadata": {},
   "source": [
    "# Sum of n Naturals Numbers"
   ]
  },
  {
   "cell_type": "code",
   "execution_count": 3,
   "metadata": {},
   "outputs": [
    {
     "output_type": "stream",
     "name": "stdout",
     "text": "You selected 3\nNumber is 15\nsum1 executed output 120.0\nsum2 executed output 120\nNumber is 75\nsum1 executed output 2850.0\nsum2 executed output 2850\nNumber is 2000\nsum1 executed output 2001000.0\nsum2 executed output 2001000\n"
    }
   ],
   "source": [
    "def sum1(n): # This function will be faster than sum2\n",
    "    # O(1) - Time Complexity of 1\n",
    "    return (n)*(n+1)/2\n",
    "\n",
    "def sum2(n):\n",
    "    # O(n) - Time Complexity of n\n",
    "    sm = 0\n",
    "    for i in range(1,n+1):\n",
    "        sm = sm + i\n",
    "    return sm\n",
    "\n",
    "# O(n) > O(1)\n",
    "\n",
    "t = int(input(\"How many test cases you want ? \\n\"))\n",
    "print(f\"You selected {t}\")\n",
    "while t:\n",
    "    n = int(input(\"Enter a Number\\n\"))\n",
    "    print(f\"Number is {n}\")\n",
    "    print(f\"sum1 executed output {sum1(n)}\")\n",
    "    print(f\"sum2 executed output {sum2(n)}\")\n",
    "    t = t-1"
   ]
  },
  {
   "cell_type": "markdown",
   "metadata": {},
   "source": [
    "# GCD and LCM"
   ]
  },
  {
   "cell_type": "code",
   "execution_count": 5,
   "metadata": {},
   "outputs": [
    {
     "output_type": "stream",
     "name": "stdout",
     "text": "You selected 2 test cases\nYou chose 6 and 70\nGCD = 2 and LCM = 210.0\nYou chose 55 and 625\nGCD = 5 and LCM = 6875.0\n"
    }
   ],
   "source": [
    "# Euclid Algo\n",
    "# Time Complexity - O(log(min(a,b)))\n",
    "\n",
    "def gcd(a,b):\n",
    "    if a == 0:\n",
    "        return b\n",
    "    return gcd(b%a, a)\n",
    "\n",
    "# Product = LCM * GCD\n",
    "\n",
    "def lcm(a,b):\n",
    "    prod = a*b\n",
    "    hcf = gcd(a,b)\n",
    "    return prod / hcf\n",
    "\n",
    "t = int(input(\"How many test cases you want ? \\n\"))\n",
    "print(f\"You selected {t} test cases\")\n",
    "\n",
    "while t:\n",
    "    n,m = map(int, input().split())\n",
    "    print(f\"You chose {n} and {m}\")\n",
    "    print(f\"GCD = {gcd(n, m)} and LCM = {lcm(n, m)}\")\n",
    "    t = t - 1"
   ]
  },
  {
   "cell_type": "markdown",
   "metadata": {},
   "source": [
    "# Find Divisors of a Number"
   ]
  },
  {
   "cell_type": "code",
   "execution_count": 7,
   "metadata": {},
   "outputs": [
    {
     "output_type": "stream",
     "name": "stdout",
     "text": "You selected 2 test cases\nThe Number you chose is : 24\n1 2 3 4 6 8 12 24\n1 2 3 4 6.0 8.0 12.0 24.0\nThe Number you chose is : 50\n1 2 5 10 25 50\n1 2 5 10.0 50.0 25.0\n"
    }
   ],
   "source": [
    "# 24 = [1,2,3,4,6,8,12,24]\n",
    "from math import *\n",
    "\n",
    "def fun1(n):\n",
    "    # O(n)\n",
    "    div1 = []\n",
    "    for i in range(1, n+1):\n",
    "        if n%i == 0:\n",
    "            div1.append(i)\n",
    "\n",
    "    return div1\n",
    "\n",
    "def fun2(n):\n",
    "    # O(root(n))\n",
    "    div2 = set()\n",
    "    for i in range(1, int(sqrt(n))+1): # 1 to root(n)\n",
    "        if n%i == 0:\n",
    "            div2.add(i)\n",
    "            div2.add(n/i)\n",
    "\n",
    "    return list(div2)\n",
    "\n",
    "# func2 : Explanation\n",
    "# n = 24 [1,2,3,4,6,8,12,24] | Total no. of divisors (int(sqrt(24)) * 2) = 8\n",
    "# if 24 is divisible by 2, then 24 is also divisible by 24/2 = 12\n",
    "# and if 24 is divisible by 3, then 24 is also divisible by 24/3 = 8\n",
    "# and if 24 is divisible by 4, then 24 is also divisible by 24/4 = 6 and so on....\n",
    "\n",
    "t = int(input(\"How many test cases you want ? \\n\"))\n",
    "print(f\"You selected {t} test cases\")\n",
    "\n",
    "while t:\n",
    "    n = int(input())\n",
    "    print(f\"The Number you chose is : {n}\")\n",
    "    div1 = fun1(n)\n",
    "    print(*div1) # * puts space between all ouyput numbers\n",
    "    div2 = fun2(n)\n",
    "    print(*div2)\n",
    "    t = t - 1"
   ]
  },
  {
   "cell_type": "markdown",
   "metadata": {},
   "source": [
    "# Prime Number"
   ]
  },
  {
   "cell_type": "code",
   "execution_count": 5,
   "metadata": {},
   "outputs": [
    {
     "output_type": "stream",
     "name": "stdout",
     "text": "You selected 3 test cases\nThe Number you chose is : 77\nApproach 2 results in False\n4\nApproach 1 results in False\nThe Number you chose is : 19\nApproach 2 results in True\n2\nApproach 1 results in True\nThe Number you chose is : 87612311\nApproach 2 results in False\n4\nApproach 1 results in False\n"
    }
   ],
   "source": [
    "# only divisible by 1 and itself\n",
    "from math import *\n",
    "\n",
    "def approach1(n):\n",
    "    divcnt = 0\n",
    "    for i in range(1, n+1): # [1,n]\n",
    "        if n%i == 0:\n",
    "            divcnt += 1\n",
    "    print(divcnt)\n",
    "    if divcnt == 2:\n",
    "        return True\n",
    "    else:\n",
    "        return False\n",
    "\n",
    "def approach2(n): # Better Approach\n",
    "    if n == 0 or n == 1: # O(1)\n",
    "        return False\n",
    "    if n == 2 or n == 3: # O(1)\n",
    "        return True\n",
    "    if n%2 == 0 or n%3 == 0: # O(1)\n",
    "        return False\n",
    "    for i in range(5, int(sqrt(n))+1): # [1, root n]\n",
    "        if n%i == 0 or n%(i+2) == 0:\n",
    "            return False\n",
    "    return True\n",
    "\n",
    "t = int(input(\"How many test cases you want ? \\n\"))\n",
    "print(f\"You selected {t} test cases\")\n",
    "\n",
    "while t:\n",
    "    n = int(input())\n",
    "    print(f\"The Number you chose is : {n}\")\n",
    "    print(f\"Approach 2 results in {approach2(n)}\")\n",
    "    print(f\"Approach 1 results in {approach1(n)}\")\n",
    "    t = t - 1"
   ]
  },
  {
   "cell_type": "markdown",
   "metadata": {},
   "source": [
    "# Sieve of Eratosthenes"
   ]
  },
  {
   "cell_type": "code",
   "execution_count": 10,
   "metadata": {},
   "outputs": [],
   "source": [
    "# Generate prime number upto N\n",
    "# O(n*log(logn))\n",
    "\n",
    "# || Basic Approach ||\n",
    "# for each number from 1 to N:\n",
    "#   check of every number is prime --> O(sqrt(N))\n",
    "# Total T.C = N * sqrt(N)\n",
    "\n",
    "# || Efficient Approach ||\n",
    "# Check divisibilty upto sqrt(n), eg. N = 25, we will check till 5\n",
    "# remove all numbers upto N which are divisible by 2 and greater than or equal to square of 2\n",
    "# remove all numbers upto N which are divisible by 3 and greater than or equal to square of 3\n",
    "# remove all numbers upto N which are divisible by 5 and greater than or equal to square of 5"
   ]
  },
  {
   "cell_type": "code",
   "execution_count": 13,
   "metadata": {},
   "outputs": [
    {
     "output_type": "stream",
     "name": "stdout",
     "text": "The Number you chose is : 100\n2 3 5 7 11 13 17 19 23 29 31 37 41 43 47 53 59 61 67 71 73 79 83 89 97"
    }
   ],
   "source": [
    "from math import *\n",
    "\n",
    "def genprimes(n):\n",
    "    primes = [True]*(n+1)\n",
    "    primes[0] = False\n",
    "    primes[1] = False\n",
    "    for p in range(2, int(sqrt(n))+1):\n",
    "        if primes[p] == True:\n",
    "            for i in range(p*p, n+1, p):\n",
    "                primes[i] = False\n",
    "\n",
    "    for i in range(0, len(primes)):\n",
    "        if primes[i] == True:\n",
    "            print(i, end=' ')\n",
    "\n",
    "t = int(input())\n",
    "\n",
    "while t:\n",
    "    n = int(input())\n",
    "    print(f\"The Number you chose is : {n}\")\n",
    "    genprimes(n)\n",
    "    t = t - 1"
   ]
  },
  {
   "cell_type": "markdown",
   "metadata": {},
   "source": [
    "# Bit Magic"
   ]
  },
  {
   "cell_type": "code",
   "execution_count": 1,
   "metadata": {},
   "outputs": [],
   "source": [
    "# bitwise operators\n",
    "# and - &\n",
    "# or - |\n",
    "# not - ~\n",
    "# xor - ^\n",
    "# right shift - >>\n",
    "# left shift - <<"
   ]
  },
  {
   "cell_type": "markdown",
   "metadata": {},
   "source": [
    "## bitwise &"
   ]
  },
  {
   "cell_type": "code",
   "execution_count": 2,
   "metadata": {},
   "outputs": [
    {
     "output_type": "execute_result",
     "data": {
      "text/plain": "0"
     },
     "metadata": {},
     "execution_count": 2
    }
   ],
   "source": [
    "2 & 1"
   ]
  },
  {
   "cell_type": "code",
   "execution_count": 3,
   "metadata": {},
   "outputs": [
    {
     "output_type": "execute_result",
     "data": {
      "text/plain": "0"
     },
     "metadata": {},
     "execution_count": 3
    }
   ],
   "source": [
    "4 & 1"
   ]
  },
  {
   "cell_type": "code",
   "execution_count": 7,
   "metadata": {},
   "outputs": [
    {
     "output_type": "execute_result",
     "data": {
      "text/plain": "1"
     },
     "metadata": {},
     "execution_count": 7
    }
   ],
   "source": [
    "3 & 1"
   ]
  },
  {
   "cell_type": "code",
   "execution_count": 8,
   "metadata": {},
   "outputs": [
    {
     "output_type": "execute_result",
     "data": {
      "text/plain": "1"
     },
     "metadata": {},
     "execution_count": 8
    }
   ],
   "source": [
    "9 & 1"
   ]
  },
  {
   "cell_type": "code",
   "execution_count": 10,
   "metadata": {},
   "outputs": [
    {
     "output_type": "stream",
     "name": "stdout",
     "text": "You selected 3 test cases\nThe Number you chose is : 2\nEven\nThe Number you chose is : 77\nOdd\nThe Number you chose is : 99\nOdd\n"
    }
   ],
   "source": [
    "# 0 for even and 1 for odd\n",
    "\n",
    "def evenodd(n): # Simplified Even Odd\n",
    "    if n&1 == 1:\n",
    "        print(\"Odd\")\n",
    "    else:\n",
    "        print(\"Even\")\n",
    "\n",
    "t = int(input(\"How many test cases you want ? \\n\"))\n",
    "print(f\"You selected {t} test cases\")\n",
    "\n",
    "while t:\n",
    "    n = int(input())\n",
    "    print(f\"The Number you chose is : {n}\")\n",
    "    evenodd(n)\n",
    "    t = t - 1"
   ]
  },
  {
   "cell_type": "markdown",
   "metadata": {},
   "source": [
    "## << and >>"
   ]
  },
  {
   "cell_type": "code",
   "execution_count": 11,
   "metadata": {},
   "outputs": [
    {
     "output_type": "execute_result",
     "data": {
      "text/plain": "8"
     },
     "metadata": {},
     "execution_count": 11
    }
   ],
   "source": [
    "n = 32\n",
    "\n",
    "n >> 2"
   ]
  },
  {
   "cell_type": "code",
   "execution_count": 12,
   "metadata": {},
   "outputs": [
    {
     "output_type": "execute_result",
     "data": {
      "text/plain": "128"
     },
     "metadata": {},
     "execution_count": 12
    }
   ],
   "source": [
    "n << 2"
   ]
  },
  {
   "cell_type": "code",
   "execution_count": 13,
   "metadata": {},
   "outputs": [
    {
     "output_type": "execute_result",
     "data": {
      "text/plain": "25"
     },
     "metadata": {},
     "execution_count": 13
    }
   ],
   "source": [
    "m = 200\n",
    "m >> 3"
   ]
  },
  {
   "cell_type": "code",
   "execution_count": 15,
   "metadata": {},
   "outputs": [],
   "source": [
    "# Right Shift >> = Divide the number in power of 2\n",
    "# Left Shift << = Multiply the number in power of 2\n",
    "# m = 200 m >> 3, is 200/2**3 = 200/8 = 25\n",
    "# n = 32 n << 2, is 32 * 2**2 = 32 * 4 = 128"
   ]
  },
  {
   "cell_type": "code",
   "execution_count": 17,
   "metadata": {},
   "outputs": [
    {
     "output_type": "stream",
     "name": "stdout",
     "text": "You selected 2 test cases\nThe Numbers you chose are : 100 & 2\n400\n25\nThe Numbers you chose are : 50 & 3\n400\n6\n"
    }
   ],
   "source": [
    "def mulpow2(x,y):\n",
    "    return x << y\n",
    "\n",
    "def divpow2(x,y):\n",
    "    return x >> y\n",
    "\n",
    "t = int(input(\"How many test cases you want ? \\n\"))\n",
    "print(f\"You selected {t} test cases\")\n",
    "\n",
    "while t:\n",
    "    x,y = map(int, input().split())\n",
    "    print(f\"The Numbers you chose are : {x} & {y}\")\n",
    "    print(mulpow2(x,y))\n",
    "    print(divpow2(x,y))\n",
    "    t = t - 1"
   ]
  },
  {
   "cell_type": "code",
   "execution_count": null,
   "metadata": {},
   "outputs": [],
   "source": []
  }
 ],
 "metadata": {
  "language_info": {
   "codemirror_mode": {
    "name": "ipython",
    "version": 3
   },
   "file_extension": ".py",
   "mimetype": "text/x-python",
   "name": "python",
   "nbconvert_exporter": "python",
   "pygments_lexer": "ipython3",
   "version": "3.8.3-final"
  },
  "orig_nbformat": 2,
  "kernelspec": {
   "name": "python38364bita552368636874d84bdc4d8c5896b8460",
   "display_name": "Python 3.8.3 64-bit"
  }
 },
 "nbformat": 4,
 "nbformat_minor": 2
}